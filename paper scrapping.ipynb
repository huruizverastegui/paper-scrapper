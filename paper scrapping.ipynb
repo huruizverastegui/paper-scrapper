{
 "cells": [
  {
   "cell_type": "code",
   "execution_count": 3,
   "id": "acb5616a",
   "metadata": {},
   "outputs": [],
   "source": [
    "import time\n",
    "import pandas\n",
    "\n",
    "import datetime\n",
    "from datetime import datetime\n",
    "\n",
    "import requests\n",
    "\n",
    "import re\n",
    "\n",
    "from selenium import webdriver\n",
    "from selenium.webdriver import ActionChains\n",
    "from webdriver_manager.chrome import ChromeDriverManager\n",
    "from selenium.webdriver.common.by import By\n",
    "from selenium.webdriver.common.keys import Keys\n",
    "\n",
    "import random\n",
    "\n",
    "\n",
    "#EDIT ca marchait jusaqua present mais je me suis fait bloquer par Cloud far\n",
    "# on va essayer avec selenium stealth\n",
    "# https://github.com/diprajpatra/selenium-stealth "
   ]
  },
  {
   "cell_type": "code",
   "execution_count": 6,
   "id": "e1529dff",
   "metadata": {},
   "outputs": [],
   "source": [
    "import selenium_stealth\n",
    "from selenium_stealth import stealth"
   ]
  },
  {
   "cell_type": "code",
   "execution_count": 5,
   "id": "7b1cf388",
   "metadata": {},
   "outputs": [],
   "source": [
    "def random_sleep(factor=1.0):\n",
    "    sleepTime = (random.random() + 1.0) * factor\n",
    "    time.sleep(sleepTime)\n",
    "    return sleepTime"
   ]
  },
  {
   "cell_type": "code",
   "execution_count": 16,
   "id": "58175539",
   "metadata": {},
   "outputs": [],
   "source": [
    "options = webdriver.ChromeOptions()\n",
    "options.add_argument(\"start-maximized\")\n",
    "options.add_experimental_option(\"excludeSwitches\", [\"enable-automation\"])\n",
    "options.add_experimental_option('useAutomationExtension', False)\n",
    "browser = webdriver.Chrome(options=options, executable_path=ChromeDriverManager().install())\n"
   ]
  },
  {
   "cell_type": "code",
   "execution_count": 17,
   "id": "f1ca09af",
   "metadata": {},
   "outputs": [],
   "source": [
    "stealth(browser,\n",
    "        languages=[\"en-US\", \"en\"],\n",
    "        vendor=\"Google Inc.\",\n",
    "        platform=\"Win32\",\n",
    "        webgl_vendor=\"Intel Inc.\",\n",
    "        renderer=\"Intel Iris OpenGL Engine\",\n",
    "        fix_hairline=True,\n",
    "        )\n",
    "\n",
    "url_test=\"https://www.sciencedirect.com/search?pub=Materials%20Science%20and%20Engineering&cid=272910&articleTypes=FLA&show=100&offset=0\"\n"
   ]
  },
  {
   "cell_type": "code",
   "execution_count": 18,
   "id": "da03cde6",
   "metadata": {},
   "outputs": [],
   "source": [
    "browser.get(url_test)\n",
    "time.sleep(5)"
   ]
  },
  {
   "cell_type": "code",
   "execution_count": 188,
   "id": "9ae63ade",
   "metadata": {},
   "outputs": [],
   "source": [
    "# il va falloir creer une connection auto, sinon on se fait directement bloquer,pour l'instant je fais a la main\n"
   ]
  },
  {
   "cell_type": "code",
   "execution_count": 11,
   "id": "4f7cefe5",
   "metadata": {},
   "outputs": [],
   "source": [
    "# liste des journaux a scrapper sur science direct\n",
    "\n",
    "list_journals=[[\"Materials Science and Engineering\",\"Materials Science and Engineering&cid=272910\"],\n",
    "               [\"Materials & Design\",'Materials %26 Design&cid=313059'],\n",
    "               [\"Materials & Design\",'Materials %26 Design (1980-2015)&cid=271569'],\n",
    "               [\"Journal of Materials Processing Technology\",\"Journal of Materials Processing Technology&cid=271356\"]]"
   ]
  },
  {
   "cell_type": "code",
   "execution_count": 12,
   "id": "5ea33ada",
   "metadata": {},
   "outputs": [
    {
     "name": "stdout",
     "output_type": "stream",
     "text": [
      "Materials Science and Engineering\n",
      "----------\n",
      "Materials & Design\n"
     ]
    },
    {
     "ename": "KeyboardInterrupt",
     "evalue": "",
     "output_type": "error",
     "traceback": [
      "\u001b[0;31m---------------------------------------------------------------------------\u001b[0m",
      "\u001b[0;31mKeyboardInterrupt\u001b[0m                         Traceback (most recent call last)",
      "Cell \u001b[0;32mIn [12], line 22\u001b[0m\n\u001b[1;32m     18\u001b[0m \u001b[38;5;28mprint\u001b[39m(journal_name)\n\u001b[1;32m     21\u001b[0m \u001b[38;5;28;01mwhile\u001b[39;00m page_not_found\u001b[38;5;241m==\u001b[39m\u001b[38;5;241m0\u001b[39m:\n\u001b[0;32m---> 22\u001b[0m     \u001b[43mrandom_sleep\u001b[49m\u001b[43m(\u001b[49m\u001b[38;5;241;43m2\u001b[39;49m\u001b[43m)\u001b[49m\n\u001b[1;32m     23\u001b[0m     url_recup_url\u001b[38;5;241m=\u001b[39m\u001b[38;5;124mf\u001b[39m\u001b[38;5;124m\"\u001b[39m\u001b[38;5;124mhttps://www.sciencedirect.com/search?pub=\u001b[39m\u001b[38;5;132;01m{\u001b[39;00mjournal_ref\u001b[38;5;132;01m}\u001b[39;00m\u001b[38;5;124m&articleTypes=FLA&show=100&offset=\u001b[39m\u001b[38;5;132;01m{\u001b[39;00mnumber_page\u001b[38;5;132;01m}\u001b[39;00m\u001b[38;5;124m\"\u001b[39m\n\u001b[1;32m     25\u001b[0m     browser\u001b[38;5;241m.\u001b[39mget(url_recup_url) \n",
      "Cell \u001b[0;32mIn [5], line 3\u001b[0m, in \u001b[0;36mrandom_sleep\u001b[0;34m(factor)\u001b[0m\n\u001b[1;32m      1\u001b[0m \u001b[38;5;28;01mdef\u001b[39;00m \u001b[38;5;21mrandom_sleep\u001b[39m(factor\u001b[38;5;241m=\u001b[39m\u001b[38;5;241m1.0\u001b[39m):\n\u001b[1;32m      2\u001b[0m     sleepTime \u001b[38;5;241m=\u001b[39m (random\u001b[38;5;241m.\u001b[39mrandom() \u001b[38;5;241m+\u001b[39m \u001b[38;5;241m1.0\u001b[39m) \u001b[38;5;241m*\u001b[39m factor\n\u001b[0;32m----> 3\u001b[0m     \u001b[43mtime\u001b[49m\u001b[38;5;241;43m.\u001b[39;49m\u001b[43msleep\u001b[49m\u001b[43m(\u001b[49m\u001b[43msleepTime\u001b[49m\u001b[43m)\u001b[49m\n\u001b[1;32m      4\u001b[0m     \u001b[38;5;28;01mreturn\u001b[39;00m sleepTime\n",
      "\u001b[0;31mKeyboardInterrupt\u001b[0m: "
     ]
    }
   ],
   "source": [
    "#recuperation de toutes les URLs des journaux\n",
    "# dans l'URL j'ai specifie types=FLA pour ne prendre que les articles de recherche \n",
    "#v0\n",
    "\n",
    "\n",
    "regexp_url='s anchor-default\\\" href=\\\"\\/(.*?)\\\"'\n",
    "error_string=\"your search could not be run\"\n",
    "list_url=[]\n",
    "i=0\n",
    "\n",
    "for journal_string in list_journals: \n",
    "    page_not_found=0\n",
    "    number_page=0\n",
    "    list_url_journal=[]\n",
    "    \n",
    "    journal_name=journal_string[0]\n",
    "    journal_ref=journal_string[1]\n",
    "    print(journal_name)\n",
    "    \n",
    "\n",
    "    while page_not_found==0:\n",
    "        random_sleep(2)\n",
    "        url_recup_url=f\"https://www.sciencedirect.com/search?pub={journal_ref}&articleTypes=FLA&show=100&offset={number_page}\"\n",
    "\n",
    "        browser.get(url_recup_url) \n",
    "        random_sleep(2)\n",
    "        htmlsource = browser.page_source\n",
    "        list_url_inter= re.findall(regexp_url, htmlsource)\n",
    "        list_url_journal=list_url_journal+list_url_inter\n",
    "        \n",
    "\n",
    "        number_page=number_page+100\n",
    "        page_not_found=len(re.findall(error_string, htmlsource))\n",
    "    \n",
    "    df_url_journal=pandas.DataFrame(list_url_journal)\n",
    "    df_url_journal['journal']=journal_name\n",
    "    \n",
    "    if i==0 :\n",
    "        df_url=df_url_journal\n",
    "        \n",
    "    else: \n",
    "        df_url=df_url.append(df_url_journal)\n",
    "    \n",
    "    i=i+1\n",
    "    \n",
    "        \n",
    "    print('----------')\n",
    "\n",
    "\n"
   ]
  },
  {
   "cell_type": "code",
   "execution_count": 243,
   "id": "055296d6",
   "metadata": {},
   "outputs": [],
   "source": [
    "df_url.to_csv('list_url_v0.csv')\n"
   ]
  },
  {
   "cell_type": "code",
   "execution_count": 13,
   "id": "5d60ddfb",
   "metadata": {},
   "outputs": [
    {
     "data": {
      "text/html": [
       "<div>\n",
       "<style scoped>\n",
       "    .dataframe tbody tr th:only-of-type {\n",
       "        vertical-align: middle;\n",
       "    }\n",
       "\n",
       "    .dataframe tbody tr th {\n",
       "        vertical-align: top;\n",
       "    }\n",
       "\n",
       "    .dataframe thead th {\n",
       "        text-align: right;\n",
       "    }\n",
       "</style>\n",
       "<table border=\"1\" class=\"dataframe\">\n",
       "  <thead>\n",
       "    <tr style=\"text-align: right;\">\n",
       "      <th></th>\n",
       "      <th>Unnamed: 0</th>\n",
       "      <th>0</th>\n",
       "      <th>journal</th>\n",
       "    </tr>\n",
       "  </thead>\n",
       "  <tbody>\n",
       "    <tr>\n",
       "      <th>0</th>\n",
       "      <td>0</td>\n",
       "      <td>science/article/pii/0025541688902558</td>\n",
       "      <td>Materials Science and Engineering</td>\n",
       "    </tr>\n",
       "    <tr>\n",
       "      <th>1</th>\n",
       "      <td>1</td>\n",
       "      <td>science/article/pii/0025541688902467</td>\n",
       "      <td>Materials Science and Engineering</td>\n",
       "    </tr>\n",
       "    <tr>\n",
       "      <th>2</th>\n",
       "      <td>2</td>\n",
       "      <td>science/article/pii/0025541688902522</td>\n",
       "      <td>Materials Science and Engineering</td>\n",
       "    </tr>\n",
       "    <tr>\n",
       "      <th>3</th>\n",
       "      <td>3</td>\n",
       "      <td>science/article/pii/002554168890239X</td>\n",
       "      <td>Materials Science and Engineering</td>\n",
       "    </tr>\n",
       "    <tr>\n",
       "      <th>4</th>\n",
       "      <td>4</td>\n",
       "      <td>science/article/pii/0025541688902352</td>\n",
       "      <td>Materials Science and Engineering</td>\n",
       "    </tr>\n",
       "    <tr>\n",
       "      <th>...</th>\n",
       "      <td>...</td>\n",
       "      <td>...</td>\n",
       "      <td>...</td>\n",
       "    </tr>\n",
       "    <tr>\n",
       "      <th>20600</th>\n",
       "      <td>5995</td>\n",
       "      <td>science/article/pii/S0924013607012320</td>\n",
       "      <td>Journal of Materials Processing Technology</td>\n",
       "    </tr>\n",
       "    <tr>\n",
       "      <th>20601</th>\n",
       "      <td>5996</td>\n",
       "      <td>science/article/pii/S0924013607012241</td>\n",
       "      <td>Journal of Materials Processing Technology</td>\n",
       "    </tr>\n",
       "    <tr>\n",
       "      <th>20602</th>\n",
       "      <td>5997</td>\n",
       "      <td>science/article/pii/S0924013607012204</td>\n",
       "      <td>Journal of Materials Processing Technology</td>\n",
       "    </tr>\n",
       "    <tr>\n",
       "      <th>20603</th>\n",
       "      <td>5998</td>\n",
       "      <td>science/article/pii/S0924013607012599</td>\n",
       "      <td>Journal of Materials Processing Technology</td>\n",
       "    </tr>\n",
       "    <tr>\n",
       "      <th>20604</th>\n",
       "      <td>5999</td>\n",
       "      <td>science/article/pii/S0924013607011910</td>\n",
       "      <td>Journal of Materials Processing Technology</td>\n",
       "    </tr>\n",
       "  </tbody>\n",
       "</table>\n",
       "<p>20605 rows × 3 columns</p>\n",
       "</div>"
      ],
      "text/plain": [
       "       Unnamed: 0                                      0  \\\n",
       "0               0   science/article/pii/0025541688902558   \n",
       "1               1   science/article/pii/0025541688902467   \n",
       "2               2   science/article/pii/0025541688902522   \n",
       "3               3   science/article/pii/002554168890239X   \n",
       "4               4   science/article/pii/0025541688902352   \n",
       "...           ...                                    ...   \n",
       "20600        5995  science/article/pii/S0924013607012320   \n",
       "20601        5996  science/article/pii/S0924013607012241   \n",
       "20602        5997  science/article/pii/S0924013607012204   \n",
       "20603        5998  science/article/pii/S0924013607012599   \n",
       "20604        5999  science/article/pii/S0924013607011910   \n",
       "\n",
       "                                          journal  \n",
       "0               Materials Science and Engineering  \n",
       "1               Materials Science and Engineering  \n",
       "2               Materials Science and Engineering  \n",
       "3               Materials Science and Engineering  \n",
       "4               Materials Science and Engineering  \n",
       "...                                           ...  \n",
       "20600  Journal of Materials Processing Technology  \n",
       "20601  Journal of Materials Processing Technology  \n",
       "20602  Journal of Materials Processing Technology  \n",
       "20603  Journal of Materials Processing Technology  \n",
       "20604  Journal of Materials Processing Technology  \n",
       "\n",
       "[20605 rows x 3 columns]"
      ]
     },
     "execution_count": 13,
     "metadata": {},
     "output_type": "execute_result"
    }
   ],
   "source": [
    "#recup \n",
    "df_url=pandas.read_csv('/Users/hugoruizverastegui/Documents/perso github/paper scrapper/list_url_v0.csv')\n",
    "df_url"
   ]
  },
  {
   "cell_type": "code",
   "execution_count": 23,
   "id": "997d00d5",
   "metadata": {},
   "outputs": [
    {
     "data": {
      "text/html": [
       "<div>\n",
       "<style scoped>\n",
       "    .dataframe tbody tr th:only-of-type {\n",
       "        vertical-align: middle;\n",
       "    }\n",
       "\n",
       "    .dataframe tbody tr th {\n",
       "        vertical-align: top;\n",
       "    }\n",
       "\n",
       "    .dataframe thead th {\n",
       "        text-align: right;\n",
       "    }\n",
       "</style>\n",
       "<table border=\"1\" class=\"dataframe\">\n",
       "  <thead>\n",
       "    <tr style=\"text-align: right;\">\n",
       "      <th></th>\n",
       "      <th>Unnamed: 0</th>\n",
       "      <th>url</th>\n",
       "      <th>journal</th>\n",
       "    </tr>\n",
       "  </thead>\n",
       "  <tbody>\n",
       "    <tr>\n",
       "      <th>0</th>\n",
       "      <td>0</td>\n",
       "      <td>science/article/pii/0025541688902558</td>\n",
       "      <td>Materials Science and Engineering</td>\n",
       "    </tr>\n",
       "    <tr>\n",
       "      <th>1</th>\n",
       "      <td>1</td>\n",
       "      <td>science/article/pii/0025541688902467</td>\n",
       "      <td>Materials Science and Engineering</td>\n",
       "    </tr>\n",
       "    <tr>\n",
       "      <th>2</th>\n",
       "      <td>2</td>\n",
       "      <td>science/article/pii/0025541688902522</td>\n",
       "      <td>Materials Science and Engineering</td>\n",
       "    </tr>\n",
       "    <tr>\n",
       "      <th>3</th>\n",
       "      <td>3</td>\n",
       "      <td>science/article/pii/002554168890239X</td>\n",
       "      <td>Materials Science and Engineering</td>\n",
       "    </tr>\n",
       "    <tr>\n",
       "      <th>4</th>\n",
       "      <td>4</td>\n",
       "      <td>science/article/pii/0025541688902352</td>\n",
       "      <td>Materials Science and Engineering</td>\n",
       "    </tr>\n",
       "    <tr>\n",
       "      <th>...</th>\n",
       "      <td>...</td>\n",
       "      <td>...</td>\n",
       "      <td>...</td>\n",
       "    </tr>\n",
       "    <tr>\n",
       "      <th>20600</th>\n",
       "      <td>5995</td>\n",
       "      <td>science/article/pii/S0924013607012320</td>\n",
       "      <td>Journal of Materials Processing Technology</td>\n",
       "    </tr>\n",
       "    <tr>\n",
       "      <th>20601</th>\n",
       "      <td>5996</td>\n",
       "      <td>science/article/pii/S0924013607012241</td>\n",
       "      <td>Journal of Materials Processing Technology</td>\n",
       "    </tr>\n",
       "    <tr>\n",
       "      <th>20602</th>\n",
       "      <td>5997</td>\n",
       "      <td>science/article/pii/S0924013607012204</td>\n",
       "      <td>Journal of Materials Processing Technology</td>\n",
       "    </tr>\n",
       "    <tr>\n",
       "      <th>20603</th>\n",
       "      <td>5998</td>\n",
       "      <td>science/article/pii/S0924013607012599</td>\n",
       "      <td>Journal of Materials Processing Technology</td>\n",
       "    </tr>\n",
       "    <tr>\n",
       "      <th>20604</th>\n",
       "      <td>5999</td>\n",
       "      <td>science/article/pii/S0924013607011910</td>\n",
       "      <td>Journal of Materials Processing Technology</td>\n",
       "    </tr>\n",
       "  </tbody>\n",
       "</table>\n",
       "<p>20605 rows × 3 columns</p>\n",
       "</div>"
      ],
      "text/plain": [
       "       Unnamed: 0                                    url  \\\n",
       "0               0   science/article/pii/0025541688902558   \n",
       "1               1   science/article/pii/0025541688902467   \n",
       "2               2   science/article/pii/0025541688902522   \n",
       "3               3   science/article/pii/002554168890239X   \n",
       "4               4   science/article/pii/0025541688902352   \n",
       "...           ...                                    ...   \n",
       "20600        5995  science/article/pii/S0924013607012320   \n",
       "20601        5996  science/article/pii/S0924013607012241   \n",
       "20602        5997  science/article/pii/S0924013607012204   \n",
       "20603        5998  science/article/pii/S0924013607012599   \n",
       "20604        5999  science/article/pii/S0924013607011910   \n",
       "\n",
       "                                          journal  \n",
       "0               Materials Science and Engineering  \n",
       "1               Materials Science and Engineering  \n",
       "2               Materials Science and Engineering  \n",
       "3               Materials Science and Engineering  \n",
       "4               Materials Science and Engineering  \n",
       "...                                           ...  \n",
       "20600  Journal of Materials Processing Technology  \n",
       "20601  Journal of Materials Processing Technology  \n",
       "20602  Journal of Materials Processing Technology  \n",
       "20603  Journal of Materials Processing Technology  \n",
       "20604  Journal of Materials Processing Technology  \n",
       "\n",
       "[20605 rows x 3 columns]"
      ]
     },
     "execution_count": 23,
     "metadata": {},
     "output_type": "execute_result"
    }
   ],
   "source": [
    "df_url.rename(columns={\"0\": \"url\"})"
   ]
  },
  {
   "cell_type": "code",
   "execution_count": 24,
   "id": "982624b7",
   "metadata": {},
   "outputs": [
    {
     "data": {
      "text/html": [
       "<div>\n",
       "<style scoped>\n",
       "    .dataframe tbody tr th:only-of-type {\n",
       "        vertical-align: middle;\n",
       "    }\n",
       "\n",
       "    .dataframe tbody tr th {\n",
       "        vertical-align: top;\n",
       "    }\n",
       "\n",
       "    .dataframe thead th {\n",
       "        text-align: right;\n",
       "    }\n",
       "</style>\n",
       "<table border=\"1\" class=\"dataframe\">\n",
       "  <thead>\n",
       "    <tr style=\"text-align: right;\">\n",
       "      <th></th>\n",
       "      <th>Unnamed: 0</th>\n",
       "      <th>url</th>\n",
       "      <th>journal</th>\n",
       "    </tr>\n",
       "  </thead>\n",
       "  <tbody>\n",
       "    <tr>\n",
       "      <th>0</th>\n",
       "      <td>0</td>\n",
       "      <td>science/article/pii/0025541688902558</td>\n",
       "      <td>Materials Science and Engineering</td>\n",
       "    </tr>\n",
       "    <tr>\n",
       "      <th>1</th>\n",
       "      <td>1</td>\n",
       "      <td>science/article/pii/0025541688902467</td>\n",
       "      <td>Materials Science and Engineering</td>\n",
       "    </tr>\n",
       "    <tr>\n",
       "      <th>2</th>\n",
       "      <td>2</td>\n",
       "      <td>science/article/pii/0025541688902522</td>\n",
       "      <td>Materials Science and Engineering</td>\n",
       "    </tr>\n",
       "    <tr>\n",
       "      <th>3</th>\n",
       "      <td>3</td>\n",
       "      <td>science/article/pii/002554168890239X</td>\n",
       "      <td>Materials Science and Engineering</td>\n",
       "    </tr>\n",
       "    <tr>\n",
       "      <th>4</th>\n",
       "      <td>4</td>\n",
       "      <td>science/article/pii/0025541688902352</td>\n",
       "      <td>Materials Science and Engineering</td>\n",
       "    </tr>\n",
       "    <tr>\n",
       "      <th>...</th>\n",
       "      <td>...</td>\n",
       "      <td>...</td>\n",
       "      <td>...</td>\n",
       "    </tr>\n",
       "    <tr>\n",
       "      <th>20600</th>\n",
       "      <td>5995</td>\n",
       "      <td>science/article/pii/S0924013607012320</td>\n",
       "      <td>Journal of Materials Processing Technology</td>\n",
       "    </tr>\n",
       "    <tr>\n",
       "      <th>20601</th>\n",
       "      <td>5996</td>\n",
       "      <td>science/article/pii/S0924013607012241</td>\n",
       "      <td>Journal of Materials Processing Technology</td>\n",
       "    </tr>\n",
       "    <tr>\n",
       "      <th>20602</th>\n",
       "      <td>5997</td>\n",
       "      <td>science/article/pii/S0924013607012204</td>\n",
       "      <td>Journal of Materials Processing Technology</td>\n",
       "    </tr>\n",
       "    <tr>\n",
       "      <th>20603</th>\n",
       "      <td>5998</td>\n",
       "      <td>science/article/pii/S0924013607012599</td>\n",
       "      <td>Journal of Materials Processing Technology</td>\n",
       "    </tr>\n",
       "    <tr>\n",
       "      <th>20604</th>\n",
       "      <td>5999</td>\n",
       "      <td>science/article/pii/S0924013607011910</td>\n",
       "      <td>Journal of Materials Processing Technology</td>\n",
       "    </tr>\n",
       "  </tbody>\n",
       "</table>\n",
       "<p>20605 rows × 3 columns</p>\n",
       "</div>"
      ],
      "text/plain": [
       "       Unnamed: 0                                    url  \\\n",
       "0               0   science/article/pii/0025541688902558   \n",
       "1               1   science/article/pii/0025541688902467   \n",
       "2               2   science/article/pii/0025541688902522   \n",
       "3               3   science/article/pii/002554168890239X   \n",
       "4               4   science/article/pii/0025541688902352   \n",
       "...           ...                                    ...   \n",
       "20600        5995  science/article/pii/S0924013607012320   \n",
       "20601        5996  science/article/pii/S0924013607012241   \n",
       "20602        5997  science/article/pii/S0924013607012204   \n",
       "20603        5998  science/article/pii/S0924013607012599   \n",
       "20604        5999  science/article/pii/S0924013607011910   \n",
       "\n",
       "                                          journal  \n",
       "0               Materials Science and Engineering  \n",
       "1               Materials Science and Engineering  \n",
       "2               Materials Science and Engineering  \n",
       "3               Materials Science and Engineering  \n",
       "4               Materials Science and Engineering  \n",
       "...                                           ...  \n",
       "20600  Journal of Materials Processing Technology  \n",
       "20601  Journal of Materials Processing Technology  \n",
       "20602  Journal of Materials Processing Technology  \n",
       "20603  Journal of Materials Processing Technology  \n",
       "20604  Journal of Materials Processing Technology  \n",
       "\n",
       "[20605 rows x 3 columns]"
      ]
     },
     "execution_count": 24,
     "metadata": {},
     "output_type": "execute_result"
    }
   ],
   "source": [
    "#rename columns \n",
    "df_url=df_url.rename(columns={\"0\": \"url\"})\n",
    "df_url"
   ]
  },
  {
   "cell_type": "code",
   "execution_count": 20,
   "id": "da11df6a",
   "metadata": {},
   "outputs": [],
   "source": [
    "#recup de sinfos sur la page \n",
    "# test agec regex101.com\n",
    "\n",
    "regexp_title= \"og:title\\\" content=\\\"(.*?)\\\"\"\n",
    "regexp_abstract=\">Abstract<\\/h2(.*?)<\\/p>\"\n",
    "regexp_doi=\"anchor doi anchor-default anchor-external-link\\\" href=\\\"(.*?)\\\"\"\n",
    "regexp_citations=\"Cited by \\((\\d+)\\)\"\n",
    "regexp_date=\"cover-date-text\\\":\\\"(.*?)\\\"\"\n",
    "regexp_affiliation=\"affiliation\\\">(.*?)<\\/dd>\"\n",
    "regexp_auteurs=\"surname\\\">(.*?)<\"\n",
    "regexp_keywords=\"keyword\\\"><span>(.*?)<\\/span>\""
   ]
  },
  {
   "cell_type": "code",
   "execution_count": 25,
   "id": "8e38bd88",
   "metadata": {},
   "outputs": [
    {
     "name": "stdout",
     "output_type": "stream",
     "text": [
      "0\n",
      "1\n"
     ]
    },
    {
     "name": "stderr",
     "output_type": "stream",
     "text": [
      "/var/folders/9z/sjrbpv9j1996t3_4wv3ry65c0000gn/T/ipykernel_48737/1927192999.py:93: FutureWarning: The frame.append method is deprecated and will be removed from pandas in a future version. Use pandas.concat instead.\n",
      "  df_result=df_result.append(df_inter)\n"
     ]
    },
    {
     "name": "stdout",
     "output_type": "stream",
     "text": [
      "2\n"
     ]
    },
    {
     "name": "stderr",
     "output_type": "stream",
     "text": [
      "/var/folders/9z/sjrbpv9j1996t3_4wv3ry65c0000gn/T/ipykernel_48737/1927192999.py:93: FutureWarning: The frame.append method is deprecated and will be removed from pandas in a future version. Use pandas.concat instead.\n",
      "  df_result=df_result.append(df_inter)\n"
     ]
    },
    {
     "name": "stdout",
     "output_type": "stream",
     "text": [
      "3\n"
     ]
    },
    {
     "name": "stderr",
     "output_type": "stream",
     "text": [
      "/var/folders/9z/sjrbpv9j1996t3_4wv3ry65c0000gn/T/ipykernel_48737/1927192999.py:93: FutureWarning: The frame.append method is deprecated and will be removed from pandas in a future version. Use pandas.concat instead.\n",
      "  df_result=df_result.append(df_inter)\n"
     ]
    },
    {
     "name": "stdout",
     "output_type": "stream",
     "text": [
      "4\n"
     ]
    },
    {
     "name": "stderr",
     "output_type": "stream",
     "text": [
      "/var/folders/9z/sjrbpv9j1996t3_4wv3ry65c0000gn/T/ipykernel_48737/1927192999.py:93: FutureWarning: The frame.append method is deprecated and will be removed from pandas in a future version. Use pandas.concat instead.\n",
      "  df_result=df_result.append(df_inter)\n"
     ]
    },
    {
     "name": "stdout",
     "output_type": "stream",
     "text": [
      "5\n"
     ]
    },
    {
     "name": "stderr",
     "output_type": "stream",
     "text": [
      "/var/folders/9z/sjrbpv9j1996t3_4wv3ry65c0000gn/T/ipykernel_48737/1927192999.py:93: FutureWarning: The frame.append method is deprecated and will be removed from pandas in a future version. Use pandas.concat instead.\n",
      "  df_result=df_result.append(df_inter)\n"
     ]
    },
    {
     "name": "stdout",
     "output_type": "stream",
     "text": [
      "6\n"
     ]
    },
    {
     "name": "stderr",
     "output_type": "stream",
     "text": [
      "/var/folders/9z/sjrbpv9j1996t3_4wv3ry65c0000gn/T/ipykernel_48737/1927192999.py:93: FutureWarning: The frame.append method is deprecated and will be removed from pandas in a future version. Use pandas.concat instead.\n",
      "  df_result=df_result.append(df_inter)\n"
     ]
    },
    {
     "name": "stdout",
     "output_type": "stream",
     "text": [
      "7\n"
     ]
    },
    {
     "name": "stderr",
     "output_type": "stream",
     "text": [
      "/var/folders/9z/sjrbpv9j1996t3_4wv3ry65c0000gn/T/ipykernel_48737/1927192999.py:93: FutureWarning: The frame.append method is deprecated and will be removed from pandas in a future version. Use pandas.concat instead.\n",
      "  df_result=df_result.append(df_inter)\n"
     ]
    },
    {
     "name": "stdout",
     "output_type": "stream",
     "text": [
      "8\n"
     ]
    },
    {
     "name": "stderr",
     "output_type": "stream",
     "text": [
      "/var/folders/9z/sjrbpv9j1996t3_4wv3ry65c0000gn/T/ipykernel_48737/1927192999.py:93: FutureWarning: The frame.append method is deprecated and will be removed from pandas in a future version. Use pandas.concat instead.\n",
      "  df_result=df_result.append(df_inter)\n"
     ]
    },
    {
     "name": "stdout",
     "output_type": "stream",
     "text": [
      "9\n"
     ]
    },
    {
     "name": "stderr",
     "output_type": "stream",
     "text": [
      "/var/folders/9z/sjrbpv9j1996t3_4wv3ry65c0000gn/T/ipykernel_48737/1927192999.py:93: FutureWarning: The frame.append method is deprecated and will be removed from pandas in a future version. Use pandas.concat instead.\n",
      "  df_result=df_result.append(df_inter)\n"
     ]
    },
    {
     "name": "stdout",
     "output_type": "stream",
     "text": [
      "10\n"
     ]
    },
    {
     "name": "stderr",
     "output_type": "stream",
     "text": [
      "/var/folders/9z/sjrbpv9j1996t3_4wv3ry65c0000gn/T/ipykernel_48737/1927192999.py:93: FutureWarning: The frame.append method is deprecated and will be removed from pandas in a future version. Use pandas.concat instead.\n",
      "  df_result=df_result.append(df_inter)\n"
     ]
    },
    {
     "name": "stdout",
     "output_type": "stream",
     "text": [
      "11\n"
     ]
    },
    {
     "name": "stderr",
     "output_type": "stream",
     "text": [
      "/var/folders/9z/sjrbpv9j1996t3_4wv3ry65c0000gn/T/ipykernel_48737/1927192999.py:93: FutureWarning: The frame.append method is deprecated and will be removed from pandas in a future version. Use pandas.concat instead.\n",
      "  df_result=df_result.append(df_inter)\n"
     ]
    },
    {
     "name": "stdout",
     "output_type": "stream",
     "text": [
      "12\n"
     ]
    },
    {
     "name": "stderr",
     "output_type": "stream",
     "text": [
      "/var/folders/9z/sjrbpv9j1996t3_4wv3ry65c0000gn/T/ipykernel_48737/1927192999.py:93: FutureWarning: The frame.append method is deprecated and will be removed from pandas in a future version. Use pandas.concat instead.\n",
      "  df_result=df_result.append(df_inter)\n"
     ]
    },
    {
     "name": "stdout",
     "output_type": "stream",
     "text": [
      "13\n"
     ]
    },
    {
     "name": "stderr",
     "output_type": "stream",
     "text": [
      "/var/folders/9z/sjrbpv9j1996t3_4wv3ry65c0000gn/T/ipykernel_48737/1927192999.py:93: FutureWarning: The frame.append method is deprecated and will be removed from pandas in a future version. Use pandas.concat instead.\n",
      "  df_result=df_result.append(df_inter)\n"
     ]
    },
    {
     "name": "stdout",
     "output_type": "stream",
     "text": [
      "14\n"
     ]
    },
    {
     "name": "stderr",
     "output_type": "stream",
     "text": [
      "/var/folders/9z/sjrbpv9j1996t3_4wv3ry65c0000gn/T/ipykernel_48737/1927192999.py:93: FutureWarning: The frame.append method is deprecated and will be removed from pandas in a future version. Use pandas.concat instead.\n",
      "  df_result=df_result.append(df_inter)\n"
     ]
    },
    {
     "name": "stdout",
     "output_type": "stream",
     "text": [
      "15\n"
     ]
    },
    {
     "name": "stderr",
     "output_type": "stream",
     "text": [
      "/var/folders/9z/sjrbpv9j1996t3_4wv3ry65c0000gn/T/ipykernel_48737/1927192999.py:93: FutureWarning: The frame.append method is deprecated and will be removed from pandas in a future version. Use pandas.concat instead.\n",
      "  df_result=df_result.append(df_inter)\n"
     ]
    },
    {
     "name": "stdout",
     "output_type": "stream",
     "text": [
      "16\n"
     ]
    },
    {
     "name": "stderr",
     "output_type": "stream",
     "text": [
      "/var/folders/9z/sjrbpv9j1996t3_4wv3ry65c0000gn/T/ipykernel_48737/1927192999.py:93: FutureWarning: The frame.append method is deprecated and will be removed from pandas in a future version. Use pandas.concat instead.\n",
      "  df_result=df_result.append(df_inter)\n"
     ]
    },
    {
     "name": "stdout",
     "output_type": "stream",
     "text": [
      "17\n"
     ]
    },
    {
     "name": "stderr",
     "output_type": "stream",
     "text": [
      "/var/folders/9z/sjrbpv9j1996t3_4wv3ry65c0000gn/T/ipykernel_48737/1927192999.py:93: FutureWarning: The frame.append method is deprecated and will be removed from pandas in a future version. Use pandas.concat instead.\n",
      "  df_result=df_result.append(df_inter)\n"
     ]
    },
    {
     "name": "stdout",
     "output_type": "stream",
     "text": [
      "18\n"
     ]
    },
    {
     "name": "stderr",
     "output_type": "stream",
     "text": [
      "/var/folders/9z/sjrbpv9j1996t3_4wv3ry65c0000gn/T/ipykernel_48737/1927192999.py:93: FutureWarning: The frame.append method is deprecated and will be removed from pandas in a future version. Use pandas.concat instead.\n",
      "  df_result=df_result.append(df_inter)\n"
     ]
    },
    {
     "name": "stdout",
     "output_type": "stream",
     "text": [
      "19\n"
     ]
    },
    {
     "name": "stderr",
     "output_type": "stream",
     "text": [
      "/var/folders/9z/sjrbpv9j1996t3_4wv3ry65c0000gn/T/ipykernel_48737/1927192999.py:93: FutureWarning: The frame.append method is deprecated and will be removed from pandas in a future version. Use pandas.concat instead.\n",
      "  df_result=df_result.append(df_inter)\n"
     ]
    },
    {
     "name": "stdout",
     "output_type": "stream",
     "text": [
      "20\n"
     ]
    },
    {
     "name": "stderr",
     "output_type": "stream",
     "text": [
      "/var/folders/9z/sjrbpv9j1996t3_4wv3ry65c0000gn/T/ipykernel_48737/1927192999.py:93: FutureWarning: The frame.append method is deprecated and will be removed from pandas in a future version. Use pandas.concat instead.\n",
      "  df_result=df_result.append(df_inter)\n"
     ]
    },
    {
     "name": "stdout",
     "output_type": "stream",
     "text": [
      "21\n"
     ]
    },
    {
     "name": "stderr",
     "output_type": "stream",
     "text": [
      "/var/folders/9z/sjrbpv9j1996t3_4wv3ry65c0000gn/T/ipykernel_48737/1927192999.py:93: FutureWarning: The frame.append method is deprecated and will be removed from pandas in a future version. Use pandas.concat instead.\n",
      "  df_result=df_result.append(df_inter)\n"
     ]
    },
    {
     "name": "stdout",
     "output_type": "stream",
     "text": [
      "22\n"
     ]
    },
    {
     "name": "stderr",
     "output_type": "stream",
     "text": [
      "/var/folders/9z/sjrbpv9j1996t3_4wv3ry65c0000gn/T/ipykernel_48737/1927192999.py:93: FutureWarning: The frame.append method is deprecated and will be removed from pandas in a future version. Use pandas.concat instead.\n",
      "  df_result=df_result.append(df_inter)\n"
     ]
    },
    {
     "name": "stdout",
     "output_type": "stream",
     "text": [
      "23\n"
     ]
    },
    {
     "name": "stderr",
     "output_type": "stream",
     "text": [
      "/var/folders/9z/sjrbpv9j1996t3_4wv3ry65c0000gn/T/ipykernel_48737/1927192999.py:93: FutureWarning: The frame.append method is deprecated and will be removed from pandas in a future version. Use pandas.concat instead.\n",
      "  df_result=df_result.append(df_inter)\n"
     ]
    },
    {
     "name": "stdout",
     "output_type": "stream",
     "text": [
      "24\n"
     ]
    },
    {
     "name": "stderr",
     "output_type": "stream",
     "text": [
      "/var/folders/9z/sjrbpv9j1996t3_4wv3ry65c0000gn/T/ipykernel_48737/1927192999.py:93: FutureWarning: The frame.append method is deprecated and will be removed from pandas in a future version. Use pandas.concat instead.\n",
      "  df_result=df_result.append(df_inter)\n"
     ]
    },
    {
     "name": "stdout",
     "output_type": "stream",
     "text": [
      "25\n"
     ]
    },
    {
     "name": "stderr",
     "output_type": "stream",
     "text": [
      "/var/folders/9z/sjrbpv9j1996t3_4wv3ry65c0000gn/T/ipykernel_48737/1927192999.py:93: FutureWarning: The frame.append method is deprecated and will be removed from pandas in a future version. Use pandas.concat instead.\n",
      "  df_result=df_result.append(df_inter)\n"
     ]
    },
    {
     "name": "stdout",
     "output_type": "stream",
     "text": [
      "26\n"
     ]
    },
    {
     "name": "stderr",
     "output_type": "stream",
     "text": [
      "/var/folders/9z/sjrbpv9j1996t3_4wv3ry65c0000gn/T/ipykernel_48737/1927192999.py:93: FutureWarning: The frame.append method is deprecated and will be removed from pandas in a future version. Use pandas.concat instead.\n",
      "  df_result=df_result.append(df_inter)\n"
     ]
    },
    {
     "name": "stdout",
     "output_type": "stream",
     "text": [
      "27\n"
     ]
    },
    {
     "name": "stderr",
     "output_type": "stream",
     "text": [
      "/var/folders/9z/sjrbpv9j1996t3_4wv3ry65c0000gn/T/ipykernel_48737/1927192999.py:93: FutureWarning: The frame.append method is deprecated and will be removed from pandas in a future version. Use pandas.concat instead.\n",
      "  df_result=df_result.append(df_inter)\n"
     ]
    },
    {
     "name": "stdout",
     "output_type": "stream",
     "text": [
      "28\n"
     ]
    },
    {
     "name": "stderr",
     "output_type": "stream",
     "text": [
      "/var/folders/9z/sjrbpv9j1996t3_4wv3ry65c0000gn/T/ipykernel_48737/1927192999.py:93: FutureWarning: The frame.append method is deprecated and will be removed from pandas in a future version. Use pandas.concat instead.\n",
      "  df_result=df_result.append(df_inter)\n"
     ]
    },
    {
     "name": "stdout",
     "output_type": "stream",
     "text": [
      "29\n"
     ]
    },
    {
     "name": "stderr",
     "output_type": "stream",
     "text": [
      "/var/folders/9z/sjrbpv9j1996t3_4wv3ry65c0000gn/T/ipykernel_48737/1927192999.py:93: FutureWarning: The frame.append method is deprecated and will be removed from pandas in a future version. Use pandas.concat instead.\n",
      "  df_result=df_result.append(df_inter)\n"
     ]
    },
    {
     "name": "stdout",
     "output_type": "stream",
     "text": [
      "30\n"
     ]
    },
    {
     "name": "stderr",
     "output_type": "stream",
     "text": [
      "/var/folders/9z/sjrbpv9j1996t3_4wv3ry65c0000gn/T/ipykernel_48737/1927192999.py:93: FutureWarning: The frame.append method is deprecated and will be removed from pandas in a future version. Use pandas.concat instead.\n",
      "  df_result=df_result.append(df_inter)\n"
     ]
    },
    {
     "name": "stdout",
     "output_type": "stream",
     "text": [
      "31\n"
     ]
    },
    {
     "name": "stderr",
     "output_type": "stream",
     "text": [
      "/var/folders/9z/sjrbpv9j1996t3_4wv3ry65c0000gn/T/ipykernel_48737/1927192999.py:93: FutureWarning: The frame.append method is deprecated and will be removed from pandas in a future version. Use pandas.concat instead.\n",
      "  df_result=df_result.append(df_inter)\n"
     ]
    },
    {
     "name": "stdout",
     "output_type": "stream",
     "text": [
      "32\n"
     ]
    },
    {
     "name": "stderr",
     "output_type": "stream",
     "text": [
      "/var/folders/9z/sjrbpv9j1996t3_4wv3ry65c0000gn/T/ipykernel_48737/1927192999.py:93: FutureWarning: The frame.append method is deprecated and will be removed from pandas in a future version. Use pandas.concat instead.\n",
      "  df_result=df_result.append(df_inter)\n"
     ]
    },
    {
     "name": "stdout",
     "output_type": "stream",
     "text": [
      "33\n"
     ]
    },
    {
     "name": "stderr",
     "output_type": "stream",
     "text": [
      "/var/folders/9z/sjrbpv9j1996t3_4wv3ry65c0000gn/T/ipykernel_48737/1927192999.py:93: FutureWarning: The frame.append method is deprecated and will be removed from pandas in a future version. Use pandas.concat instead.\n",
      "  df_result=df_result.append(df_inter)\n"
     ]
    },
    {
     "name": "stdout",
     "output_type": "stream",
     "text": [
      "34\n"
     ]
    },
    {
     "name": "stderr",
     "output_type": "stream",
     "text": [
      "/var/folders/9z/sjrbpv9j1996t3_4wv3ry65c0000gn/T/ipykernel_48737/1927192999.py:93: FutureWarning: The frame.append method is deprecated and will be removed from pandas in a future version. Use pandas.concat instead.\n",
      "  df_result=df_result.append(df_inter)\n"
     ]
    },
    {
     "name": "stdout",
     "output_type": "stream",
     "text": [
      "35\n"
     ]
    },
    {
     "name": "stderr",
     "output_type": "stream",
     "text": [
      "/var/folders/9z/sjrbpv9j1996t3_4wv3ry65c0000gn/T/ipykernel_48737/1927192999.py:93: FutureWarning: The frame.append method is deprecated and will be removed from pandas in a future version. Use pandas.concat instead.\n",
      "  df_result=df_result.append(df_inter)\n"
     ]
    },
    {
     "name": "stdout",
     "output_type": "stream",
     "text": [
      "36\n"
     ]
    },
    {
     "name": "stderr",
     "output_type": "stream",
     "text": [
      "/var/folders/9z/sjrbpv9j1996t3_4wv3ry65c0000gn/T/ipykernel_48737/1927192999.py:93: FutureWarning: The frame.append method is deprecated and will be removed from pandas in a future version. Use pandas.concat instead.\n",
      "  df_result=df_result.append(df_inter)\n"
     ]
    },
    {
     "name": "stdout",
     "output_type": "stream",
     "text": [
      "37\n"
     ]
    },
    {
     "name": "stderr",
     "output_type": "stream",
     "text": [
      "/var/folders/9z/sjrbpv9j1996t3_4wv3ry65c0000gn/T/ipykernel_48737/1927192999.py:93: FutureWarning: The frame.append method is deprecated and will be removed from pandas in a future version. Use pandas.concat instead.\n",
      "  df_result=df_result.append(df_inter)\n"
     ]
    },
    {
     "name": "stdout",
     "output_type": "stream",
     "text": [
      "38\n"
     ]
    },
    {
     "name": "stderr",
     "output_type": "stream",
     "text": [
      "/var/folders/9z/sjrbpv9j1996t3_4wv3ry65c0000gn/T/ipykernel_48737/1927192999.py:93: FutureWarning: The frame.append method is deprecated and will be removed from pandas in a future version. Use pandas.concat instead.\n",
      "  df_result=df_result.append(df_inter)\n"
     ]
    },
    {
     "name": "stdout",
     "output_type": "stream",
     "text": [
      "39\n"
     ]
    },
    {
     "name": "stderr",
     "output_type": "stream",
     "text": [
      "/var/folders/9z/sjrbpv9j1996t3_4wv3ry65c0000gn/T/ipykernel_48737/1927192999.py:93: FutureWarning: The frame.append method is deprecated and will be removed from pandas in a future version. Use pandas.concat instead.\n",
      "  df_result=df_result.append(df_inter)\n"
     ]
    },
    {
     "name": "stdout",
     "output_type": "stream",
     "text": [
      "40\n"
     ]
    },
    {
     "name": "stderr",
     "output_type": "stream",
     "text": [
      "/var/folders/9z/sjrbpv9j1996t3_4wv3ry65c0000gn/T/ipykernel_48737/1927192999.py:93: FutureWarning: The frame.append method is deprecated and will be removed from pandas in a future version. Use pandas.concat instead.\n",
      "  df_result=df_result.append(df_inter)\n"
     ]
    },
    {
     "name": "stdout",
     "output_type": "stream",
     "text": [
      "41\n"
     ]
    },
    {
     "name": "stderr",
     "output_type": "stream",
     "text": [
      "/var/folders/9z/sjrbpv9j1996t3_4wv3ry65c0000gn/T/ipykernel_48737/1927192999.py:93: FutureWarning: The frame.append method is deprecated and will be removed from pandas in a future version. Use pandas.concat instead.\n",
      "  df_result=df_result.append(df_inter)\n"
     ]
    },
    {
     "name": "stdout",
     "output_type": "stream",
     "text": [
      "42\n"
     ]
    },
    {
     "name": "stderr",
     "output_type": "stream",
     "text": [
      "/var/folders/9z/sjrbpv9j1996t3_4wv3ry65c0000gn/T/ipykernel_48737/1927192999.py:93: FutureWarning: The frame.append method is deprecated and will be removed from pandas in a future version. Use pandas.concat instead.\n",
      "  df_result=df_result.append(df_inter)\n"
     ]
    },
    {
     "name": "stdout",
     "output_type": "stream",
     "text": [
      "43\n"
     ]
    },
    {
     "name": "stderr",
     "output_type": "stream",
     "text": [
      "/var/folders/9z/sjrbpv9j1996t3_4wv3ry65c0000gn/T/ipykernel_48737/1927192999.py:93: FutureWarning: The frame.append method is deprecated and will be removed from pandas in a future version. Use pandas.concat instead.\n",
      "  df_result=df_result.append(df_inter)\n"
     ]
    },
    {
     "name": "stdout",
     "output_type": "stream",
     "text": [
      "44\n"
     ]
    },
    {
     "name": "stderr",
     "output_type": "stream",
     "text": [
      "/var/folders/9z/sjrbpv9j1996t3_4wv3ry65c0000gn/T/ipykernel_48737/1927192999.py:93: FutureWarning: The frame.append method is deprecated and will be removed from pandas in a future version. Use pandas.concat instead.\n",
      "  df_result=df_result.append(df_inter)\n"
     ]
    },
    {
     "name": "stdout",
     "output_type": "stream",
     "text": [
      "45\n"
     ]
    },
    {
     "name": "stderr",
     "output_type": "stream",
     "text": [
      "/var/folders/9z/sjrbpv9j1996t3_4wv3ry65c0000gn/T/ipykernel_48737/1927192999.py:93: FutureWarning: The frame.append method is deprecated and will be removed from pandas in a future version. Use pandas.concat instead.\n",
      "  df_result=df_result.append(df_inter)\n"
     ]
    },
    {
     "name": "stdout",
     "output_type": "stream",
     "text": [
      "46\n"
     ]
    },
    {
     "name": "stderr",
     "output_type": "stream",
     "text": [
      "/var/folders/9z/sjrbpv9j1996t3_4wv3ry65c0000gn/T/ipykernel_48737/1927192999.py:93: FutureWarning: The frame.append method is deprecated and will be removed from pandas in a future version. Use pandas.concat instead.\n",
      "  df_result=df_result.append(df_inter)\n"
     ]
    },
    {
     "name": "stdout",
     "output_type": "stream",
     "text": [
      "47\n"
     ]
    },
    {
     "name": "stderr",
     "output_type": "stream",
     "text": [
      "/var/folders/9z/sjrbpv9j1996t3_4wv3ry65c0000gn/T/ipykernel_48737/1927192999.py:93: FutureWarning: The frame.append method is deprecated and will be removed from pandas in a future version. Use pandas.concat instead.\n",
      "  df_result=df_result.append(df_inter)\n"
     ]
    },
    {
     "name": "stdout",
     "output_type": "stream",
     "text": [
      "48\n"
     ]
    },
    {
     "name": "stderr",
     "output_type": "stream",
     "text": [
      "/var/folders/9z/sjrbpv9j1996t3_4wv3ry65c0000gn/T/ipykernel_48737/1927192999.py:93: FutureWarning: The frame.append method is deprecated and will be removed from pandas in a future version. Use pandas.concat instead.\n",
      "  df_result=df_result.append(df_inter)\n"
     ]
    },
    {
     "name": "stdout",
     "output_type": "stream",
     "text": [
      "49\n"
     ]
    },
    {
     "name": "stderr",
     "output_type": "stream",
     "text": [
      "/var/folders/9z/sjrbpv9j1996t3_4wv3ry65c0000gn/T/ipykernel_48737/1927192999.py:93: FutureWarning: The frame.append method is deprecated and will be removed from pandas in a future version. Use pandas.concat instead.\n",
      "  df_result=df_result.append(df_inter)\n"
     ]
    },
    {
     "name": "stdout",
     "output_type": "stream",
     "text": [
      "50\n"
     ]
    },
    {
     "name": "stderr",
     "output_type": "stream",
     "text": [
      "/var/folders/9z/sjrbpv9j1996t3_4wv3ry65c0000gn/T/ipykernel_48737/1927192999.py:93: FutureWarning: The frame.append method is deprecated and will be removed from pandas in a future version. Use pandas.concat instead.\n",
      "  df_result=df_result.append(df_inter)\n"
     ]
    },
    {
     "name": "stdout",
     "output_type": "stream",
     "text": [
      "51\n"
     ]
    },
    {
     "name": "stderr",
     "output_type": "stream",
     "text": [
      "/var/folders/9z/sjrbpv9j1996t3_4wv3ry65c0000gn/T/ipykernel_48737/1927192999.py:93: FutureWarning: The frame.append method is deprecated and will be removed from pandas in a future version. Use pandas.concat instead.\n",
      "  df_result=df_result.append(df_inter)\n"
     ]
    },
    {
     "name": "stdout",
     "output_type": "stream",
     "text": [
      "52\n"
     ]
    },
    {
     "name": "stderr",
     "output_type": "stream",
     "text": [
      "/var/folders/9z/sjrbpv9j1996t3_4wv3ry65c0000gn/T/ipykernel_48737/1927192999.py:93: FutureWarning: The frame.append method is deprecated and will be removed from pandas in a future version. Use pandas.concat instead.\n",
      "  df_result=df_result.append(df_inter)\n"
     ]
    },
    {
     "name": "stdout",
     "output_type": "stream",
     "text": [
      "53\n"
     ]
    },
    {
     "name": "stderr",
     "output_type": "stream",
     "text": [
      "/var/folders/9z/sjrbpv9j1996t3_4wv3ry65c0000gn/T/ipykernel_48737/1927192999.py:93: FutureWarning: The frame.append method is deprecated and will be removed from pandas in a future version. Use pandas.concat instead.\n",
      "  df_result=df_result.append(df_inter)\n"
     ]
    },
    {
     "name": "stdout",
     "output_type": "stream",
     "text": [
      "54\n"
     ]
    },
    {
     "name": "stderr",
     "output_type": "stream",
     "text": [
      "/var/folders/9z/sjrbpv9j1996t3_4wv3ry65c0000gn/T/ipykernel_48737/1927192999.py:93: FutureWarning: The frame.append method is deprecated and will be removed from pandas in a future version. Use pandas.concat instead.\n",
      "  df_result=df_result.append(df_inter)\n"
     ]
    },
    {
     "name": "stdout",
     "output_type": "stream",
     "text": [
      "55\n"
     ]
    },
    {
     "name": "stderr",
     "output_type": "stream",
     "text": [
      "/var/folders/9z/sjrbpv9j1996t3_4wv3ry65c0000gn/T/ipykernel_48737/1927192999.py:93: FutureWarning: The frame.append method is deprecated and will be removed from pandas in a future version. Use pandas.concat instead.\n",
      "  df_result=df_result.append(df_inter)\n"
     ]
    },
    {
     "name": "stdout",
     "output_type": "stream",
     "text": [
      "56\n"
     ]
    },
    {
     "name": "stderr",
     "output_type": "stream",
     "text": [
      "/var/folders/9z/sjrbpv9j1996t3_4wv3ry65c0000gn/T/ipykernel_48737/1927192999.py:93: FutureWarning: The frame.append method is deprecated and will be removed from pandas in a future version. Use pandas.concat instead.\n",
      "  df_result=df_result.append(df_inter)\n"
     ]
    },
    {
     "name": "stdout",
     "output_type": "stream",
     "text": [
      "57\n"
     ]
    },
    {
     "name": "stderr",
     "output_type": "stream",
     "text": [
      "/var/folders/9z/sjrbpv9j1996t3_4wv3ry65c0000gn/T/ipykernel_48737/1927192999.py:93: FutureWarning: The frame.append method is deprecated and will be removed from pandas in a future version. Use pandas.concat instead.\n",
      "  df_result=df_result.append(df_inter)\n"
     ]
    },
    {
     "name": "stdout",
     "output_type": "stream",
     "text": [
      "58\n"
     ]
    },
    {
     "name": "stderr",
     "output_type": "stream",
     "text": [
      "/var/folders/9z/sjrbpv9j1996t3_4wv3ry65c0000gn/T/ipykernel_48737/1927192999.py:93: FutureWarning: The frame.append method is deprecated and will be removed from pandas in a future version. Use pandas.concat instead.\n",
      "  df_result=df_result.append(df_inter)\n"
     ]
    },
    {
     "name": "stdout",
     "output_type": "stream",
     "text": [
      "59\n"
     ]
    },
    {
     "name": "stderr",
     "output_type": "stream",
     "text": [
      "/var/folders/9z/sjrbpv9j1996t3_4wv3ry65c0000gn/T/ipykernel_48737/1927192999.py:93: FutureWarning: The frame.append method is deprecated and will be removed from pandas in a future version. Use pandas.concat instead.\n",
      "  df_result=df_result.append(df_inter)\n"
     ]
    },
    {
     "name": "stdout",
     "output_type": "stream",
     "text": [
      "60\n"
     ]
    },
    {
     "name": "stderr",
     "output_type": "stream",
     "text": [
      "/var/folders/9z/sjrbpv9j1996t3_4wv3ry65c0000gn/T/ipykernel_48737/1927192999.py:93: FutureWarning: The frame.append method is deprecated and will be removed from pandas in a future version. Use pandas.concat instead.\n",
      "  df_result=df_result.append(df_inter)\n"
     ]
    },
    {
     "name": "stdout",
     "output_type": "stream",
     "text": [
      "61\n"
     ]
    },
    {
     "name": "stderr",
     "output_type": "stream",
     "text": [
      "/var/folders/9z/sjrbpv9j1996t3_4wv3ry65c0000gn/T/ipykernel_48737/1927192999.py:93: FutureWarning: The frame.append method is deprecated and will be removed from pandas in a future version. Use pandas.concat instead.\n",
      "  df_result=df_result.append(df_inter)\n"
     ]
    },
    {
     "name": "stdout",
     "output_type": "stream",
     "text": [
      "62\n"
     ]
    },
    {
     "name": "stderr",
     "output_type": "stream",
     "text": [
      "/var/folders/9z/sjrbpv9j1996t3_4wv3ry65c0000gn/T/ipykernel_48737/1927192999.py:93: FutureWarning: The frame.append method is deprecated and will be removed from pandas in a future version. Use pandas.concat instead.\n",
      "  df_result=df_result.append(df_inter)\n"
     ]
    },
    {
     "name": "stdout",
     "output_type": "stream",
     "text": [
      "63\n"
     ]
    },
    {
     "name": "stderr",
     "output_type": "stream",
     "text": [
      "/var/folders/9z/sjrbpv9j1996t3_4wv3ry65c0000gn/T/ipykernel_48737/1927192999.py:93: FutureWarning: The frame.append method is deprecated and will be removed from pandas in a future version. Use pandas.concat instead.\n",
      "  df_result=df_result.append(df_inter)\n"
     ]
    },
    {
     "name": "stdout",
     "output_type": "stream",
     "text": [
      "64\n"
     ]
    },
    {
     "name": "stderr",
     "output_type": "stream",
     "text": [
      "/var/folders/9z/sjrbpv9j1996t3_4wv3ry65c0000gn/T/ipykernel_48737/1927192999.py:93: FutureWarning: The frame.append method is deprecated and will be removed from pandas in a future version. Use pandas.concat instead.\n",
      "  df_result=df_result.append(df_inter)\n"
     ]
    },
    {
     "name": "stdout",
     "output_type": "stream",
     "text": [
      "65\n"
     ]
    },
    {
     "name": "stderr",
     "output_type": "stream",
     "text": [
      "/var/folders/9z/sjrbpv9j1996t3_4wv3ry65c0000gn/T/ipykernel_48737/1927192999.py:93: FutureWarning: The frame.append method is deprecated and will be removed from pandas in a future version. Use pandas.concat instead.\n",
      "  df_result=df_result.append(df_inter)\n"
     ]
    },
    {
     "name": "stdout",
     "output_type": "stream",
     "text": [
      "66\n"
     ]
    },
    {
     "name": "stderr",
     "output_type": "stream",
     "text": [
      "/var/folders/9z/sjrbpv9j1996t3_4wv3ry65c0000gn/T/ipykernel_48737/1927192999.py:93: FutureWarning: The frame.append method is deprecated and will be removed from pandas in a future version. Use pandas.concat instead.\n",
      "  df_result=df_result.append(df_inter)\n"
     ]
    },
    {
     "name": "stdout",
     "output_type": "stream",
     "text": [
      "67\n"
     ]
    },
    {
     "name": "stderr",
     "output_type": "stream",
     "text": [
      "/var/folders/9z/sjrbpv9j1996t3_4wv3ry65c0000gn/T/ipykernel_48737/1927192999.py:93: FutureWarning: The frame.append method is deprecated and will be removed from pandas in a future version. Use pandas.concat instead.\n",
      "  df_result=df_result.append(df_inter)\n"
     ]
    },
    {
     "name": "stdout",
     "output_type": "stream",
     "text": [
      "68\n"
     ]
    },
    {
     "name": "stderr",
     "output_type": "stream",
     "text": [
      "/var/folders/9z/sjrbpv9j1996t3_4wv3ry65c0000gn/T/ipykernel_48737/1927192999.py:93: FutureWarning: The frame.append method is deprecated and will be removed from pandas in a future version. Use pandas.concat instead.\n",
      "  df_result=df_result.append(df_inter)\n"
     ]
    },
    {
     "name": "stdout",
     "output_type": "stream",
     "text": [
      "69\n"
     ]
    },
    {
     "name": "stderr",
     "output_type": "stream",
     "text": [
      "/var/folders/9z/sjrbpv9j1996t3_4wv3ry65c0000gn/T/ipykernel_48737/1927192999.py:93: FutureWarning: The frame.append method is deprecated and will be removed from pandas in a future version. Use pandas.concat instead.\n",
      "  df_result=df_result.append(df_inter)\n"
     ]
    },
    {
     "name": "stdout",
     "output_type": "stream",
     "text": [
      "70\n"
     ]
    },
    {
     "name": "stderr",
     "output_type": "stream",
     "text": [
      "/var/folders/9z/sjrbpv9j1996t3_4wv3ry65c0000gn/T/ipykernel_48737/1927192999.py:93: FutureWarning: The frame.append method is deprecated and will be removed from pandas in a future version. Use pandas.concat instead.\n",
      "  df_result=df_result.append(df_inter)\n"
     ]
    },
    {
     "name": "stdout",
     "output_type": "stream",
     "text": [
      "71\n"
     ]
    },
    {
     "name": "stderr",
     "output_type": "stream",
     "text": [
      "/var/folders/9z/sjrbpv9j1996t3_4wv3ry65c0000gn/T/ipykernel_48737/1927192999.py:93: FutureWarning: The frame.append method is deprecated and will be removed from pandas in a future version. Use pandas.concat instead.\n",
      "  df_result=df_result.append(df_inter)\n"
     ]
    },
    {
     "name": "stdout",
     "output_type": "stream",
     "text": [
      "72\n"
     ]
    },
    {
     "name": "stderr",
     "output_type": "stream",
     "text": [
      "/var/folders/9z/sjrbpv9j1996t3_4wv3ry65c0000gn/T/ipykernel_48737/1927192999.py:93: FutureWarning: The frame.append method is deprecated and will be removed from pandas in a future version. Use pandas.concat instead.\n",
      "  df_result=df_result.append(df_inter)\n"
     ]
    },
    {
     "name": "stdout",
     "output_type": "stream",
     "text": [
      "73\n"
     ]
    },
    {
     "name": "stderr",
     "output_type": "stream",
     "text": [
      "/var/folders/9z/sjrbpv9j1996t3_4wv3ry65c0000gn/T/ipykernel_48737/1927192999.py:93: FutureWarning: The frame.append method is deprecated and will be removed from pandas in a future version. Use pandas.concat instead.\n",
      "  df_result=df_result.append(df_inter)\n"
     ]
    },
    {
     "name": "stdout",
     "output_type": "stream",
     "text": [
      "74\n"
     ]
    },
    {
     "name": "stderr",
     "output_type": "stream",
     "text": [
      "/var/folders/9z/sjrbpv9j1996t3_4wv3ry65c0000gn/T/ipykernel_48737/1927192999.py:93: FutureWarning: The frame.append method is deprecated and will be removed from pandas in a future version. Use pandas.concat instead.\n",
      "  df_result=df_result.append(df_inter)\n"
     ]
    },
    {
     "name": "stdout",
     "output_type": "stream",
     "text": [
      "75\n"
     ]
    },
    {
     "name": "stderr",
     "output_type": "stream",
     "text": [
      "/var/folders/9z/sjrbpv9j1996t3_4wv3ry65c0000gn/T/ipykernel_48737/1927192999.py:93: FutureWarning: The frame.append method is deprecated and will be removed from pandas in a future version. Use pandas.concat instead.\n",
      "  df_result=df_result.append(df_inter)\n"
     ]
    },
    {
     "name": "stdout",
     "output_type": "stream",
     "text": [
      "76\n"
     ]
    },
    {
     "name": "stderr",
     "output_type": "stream",
     "text": [
      "/var/folders/9z/sjrbpv9j1996t3_4wv3ry65c0000gn/T/ipykernel_48737/1927192999.py:93: FutureWarning: The frame.append method is deprecated and will be removed from pandas in a future version. Use pandas.concat instead.\n",
      "  df_result=df_result.append(df_inter)\n"
     ]
    },
    {
     "name": "stdout",
     "output_type": "stream",
     "text": [
      "77\n"
     ]
    },
    {
     "name": "stderr",
     "output_type": "stream",
     "text": [
      "/var/folders/9z/sjrbpv9j1996t3_4wv3ry65c0000gn/T/ipykernel_48737/1927192999.py:93: FutureWarning: The frame.append method is deprecated and will be removed from pandas in a future version. Use pandas.concat instead.\n",
      "  df_result=df_result.append(df_inter)\n"
     ]
    },
    {
     "name": "stdout",
     "output_type": "stream",
     "text": [
      "78\n"
     ]
    },
    {
     "name": "stderr",
     "output_type": "stream",
     "text": [
      "/var/folders/9z/sjrbpv9j1996t3_4wv3ry65c0000gn/T/ipykernel_48737/1927192999.py:93: FutureWarning: The frame.append method is deprecated and will be removed from pandas in a future version. Use pandas.concat instead.\n",
      "  df_result=df_result.append(df_inter)\n"
     ]
    },
    {
     "name": "stdout",
     "output_type": "stream",
     "text": [
      "79\n"
     ]
    },
    {
     "name": "stderr",
     "output_type": "stream",
     "text": [
      "/var/folders/9z/sjrbpv9j1996t3_4wv3ry65c0000gn/T/ipykernel_48737/1927192999.py:93: FutureWarning: The frame.append method is deprecated and will be removed from pandas in a future version. Use pandas.concat instead.\n",
      "  df_result=df_result.append(df_inter)\n"
     ]
    },
    {
     "name": "stdout",
     "output_type": "stream",
     "text": [
      "80\n"
     ]
    },
    {
     "name": "stderr",
     "output_type": "stream",
     "text": [
      "/var/folders/9z/sjrbpv9j1996t3_4wv3ry65c0000gn/T/ipykernel_48737/1927192999.py:93: FutureWarning: The frame.append method is deprecated and will be removed from pandas in a future version. Use pandas.concat instead.\n",
      "  df_result=df_result.append(df_inter)\n"
     ]
    },
    {
     "name": "stdout",
     "output_type": "stream",
     "text": [
      "81\n"
     ]
    },
    {
     "name": "stderr",
     "output_type": "stream",
     "text": [
      "/var/folders/9z/sjrbpv9j1996t3_4wv3ry65c0000gn/T/ipykernel_48737/1927192999.py:93: FutureWarning: The frame.append method is deprecated and will be removed from pandas in a future version. Use pandas.concat instead.\n",
      "  df_result=df_result.append(df_inter)\n"
     ]
    },
    {
     "name": "stdout",
     "output_type": "stream",
     "text": [
      "82\n"
     ]
    },
    {
     "name": "stderr",
     "output_type": "stream",
     "text": [
      "/var/folders/9z/sjrbpv9j1996t3_4wv3ry65c0000gn/T/ipykernel_48737/1927192999.py:93: FutureWarning: The frame.append method is deprecated and will be removed from pandas in a future version. Use pandas.concat instead.\n",
      "  df_result=df_result.append(df_inter)\n"
     ]
    },
    {
     "name": "stdout",
     "output_type": "stream",
     "text": [
      "83\n"
     ]
    },
    {
     "name": "stderr",
     "output_type": "stream",
     "text": [
      "/var/folders/9z/sjrbpv9j1996t3_4wv3ry65c0000gn/T/ipykernel_48737/1927192999.py:93: FutureWarning: The frame.append method is deprecated and will be removed from pandas in a future version. Use pandas.concat instead.\n",
      "  df_result=df_result.append(df_inter)\n"
     ]
    },
    {
     "name": "stdout",
     "output_type": "stream",
     "text": [
      "84\n"
     ]
    },
    {
     "name": "stderr",
     "output_type": "stream",
     "text": [
      "/var/folders/9z/sjrbpv9j1996t3_4wv3ry65c0000gn/T/ipykernel_48737/1927192999.py:93: FutureWarning: The frame.append method is deprecated and will be removed from pandas in a future version. Use pandas.concat instead.\n",
      "  df_result=df_result.append(df_inter)\n"
     ]
    },
    {
     "name": "stdout",
     "output_type": "stream",
     "text": [
      "85\n"
     ]
    },
    {
     "name": "stderr",
     "output_type": "stream",
     "text": [
      "/var/folders/9z/sjrbpv9j1996t3_4wv3ry65c0000gn/T/ipykernel_48737/1927192999.py:93: FutureWarning: The frame.append method is deprecated and will be removed from pandas in a future version. Use pandas.concat instead.\n",
      "  df_result=df_result.append(df_inter)\n"
     ]
    },
    {
     "name": "stdout",
     "output_type": "stream",
     "text": [
      "86\n"
     ]
    },
    {
     "name": "stderr",
     "output_type": "stream",
     "text": [
      "/var/folders/9z/sjrbpv9j1996t3_4wv3ry65c0000gn/T/ipykernel_48737/1927192999.py:93: FutureWarning: The frame.append method is deprecated and will be removed from pandas in a future version. Use pandas.concat instead.\n",
      "  df_result=df_result.append(df_inter)\n"
     ]
    },
    {
     "name": "stdout",
     "output_type": "stream",
     "text": [
      "87\n"
     ]
    },
    {
     "name": "stderr",
     "output_type": "stream",
     "text": [
      "/var/folders/9z/sjrbpv9j1996t3_4wv3ry65c0000gn/T/ipykernel_48737/1927192999.py:93: FutureWarning: The frame.append method is deprecated and will be removed from pandas in a future version. Use pandas.concat instead.\n",
      "  df_result=df_result.append(df_inter)\n"
     ]
    },
    {
     "name": "stdout",
     "output_type": "stream",
     "text": [
      "88\n"
     ]
    },
    {
     "name": "stderr",
     "output_type": "stream",
     "text": [
      "/var/folders/9z/sjrbpv9j1996t3_4wv3ry65c0000gn/T/ipykernel_48737/1927192999.py:93: FutureWarning: The frame.append method is deprecated and will be removed from pandas in a future version. Use pandas.concat instead.\n",
      "  df_result=df_result.append(df_inter)\n"
     ]
    },
    {
     "name": "stdout",
     "output_type": "stream",
     "text": [
      "89\n"
     ]
    },
    {
     "name": "stderr",
     "output_type": "stream",
     "text": [
      "/var/folders/9z/sjrbpv9j1996t3_4wv3ry65c0000gn/T/ipykernel_48737/1927192999.py:93: FutureWarning: The frame.append method is deprecated and will be removed from pandas in a future version. Use pandas.concat instead.\n",
      "  df_result=df_result.append(df_inter)\n"
     ]
    },
    {
     "name": "stdout",
     "output_type": "stream",
     "text": [
      "90\n"
     ]
    },
    {
     "name": "stderr",
     "output_type": "stream",
     "text": [
      "/var/folders/9z/sjrbpv9j1996t3_4wv3ry65c0000gn/T/ipykernel_48737/1927192999.py:93: FutureWarning: The frame.append method is deprecated and will be removed from pandas in a future version. Use pandas.concat instead.\n",
      "  df_result=df_result.append(df_inter)\n"
     ]
    },
    {
     "name": "stdout",
     "output_type": "stream",
     "text": [
      "91\n"
     ]
    },
    {
     "name": "stderr",
     "output_type": "stream",
     "text": [
      "/var/folders/9z/sjrbpv9j1996t3_4wv3ry65c0000gn/T/ipykernel_48737/1927192999.py:93: FutureWarning: The frame.append method is deprecated and will be removed from pandas in a future version. Use pandas.concat instead.\n",
      "  df_result=df_result.append(df_inter)\n"
     ]
    },
    {
     "name": "stdout",
     "output_type": "stream",
     "text": [
      "92\n"
     ]
    },
    {
     "name": "stderr",
     "output_type": "stream",
     "text": [
      "/var/folders/9z/sjrbpv9j1996t3_4wv3ry65c0000gn/T/ipykernel_48737/1927192999.py:93: FutureWarning: The frame.append method is deprecated and will be removed from pandas in a future version. Use pandas.concat instead.\n",
      "  df_result=df_result.append(df_inter)\n"
     ]
    },
    {
     "name": "stdout",
     "output_type": "stream",
     "text": [
      "93\n"
     ]
    },
    {
     "name": "stderr",
     "output_type": "stream",
     "text": [
      "/var/folders/9z/sjrbpv9j1996t3_4wv3ry65c0000gn/T/ipykernel_48737/1927192999.py:93: FutureWarning: The frame.append method is deprecated and will be removed from pandas in a future version. Use pandas.concat instead.\n",
      "  df_result=df_result.append(df_inter)\n"
     ]
    },
    {
     "name": "stdout",
     "output_type": "stream",
     "text": [
      "94\n"
     ]
    },
    {
     "name": "stderr",
     "output_type": "stream",
     "text": [
      "/var/folders/9z/sjrbpv9j1996t3_4wv3ry65c0000gn/T/ipykernel_48737/1927192999.py:93: FutureWarning: The frame.append method is deprecated and will be removed from pandas in a future version. Use pandas.concat instead.\n",
      "  df_result=df_result.append(df_inter)\n"
     ]
    },
    {
     "name": "stdout",
     "output_type": "stream",
     "text": [
      "95\n"
     ]
    },
    {
     "name": "stderr",
     "output_type": "stream",
     "text": [
      "/var/folders/9z/sjrbpv9j1996t3_4wv3ry65c0000gn/T/ipykernel_48737/1927192999.py:93: FutureWarning: The frame.append method is deprecated and will be removed from pandas in a future version. Use pandas.concat instead.\n",
      "  df_result=df_result.append(df_inter)\n"
     ]
    },
    {
     "name": "stdout",
     "output_type": "stream",
     "text": [
      "96\n"
     ]
    },
    {
     "name": "stderr",
     "output_type": "stream",
     "text": [
      "/var/folders/9z/sjrbpv9j1996t3_4wv3ry65c0000gn/T/ipykernel_48737/1927192999.py:93: FutureWarning: The frame.append method is deprecated and will be removed from pandas in a future version. Use pandas.concat instead.\n",
      "  df_result=df_result.append(df_inter)\n"
     ]
    },
    {
     "name": "stdout",
     "output_type": "stream",
     "text": [
      "97\n"
     ]
    },
    {
     "name": "stderr",
     "output_type": "stream",
     "text": [
      "/var/folders/9z/sjrbpv9j1996t3_4wv3ry65c0000gn/T/ipykernel_48737/1927192999.py:93: FutureWarning: The frame.append method is deprecated and will be removed from pandas in a future version. Use pandas.concat instead.\n",
      "  df_result=df_result.append(df_inter)\n"
     ]
    },
    {
     "name": "stdout",
     "output_type": "stream",
     "text": [
      "98\n"
     ]
    },
    {
     "name": "stderr",
     "output_type": "stream",
     "text": [
      "/var/folders/9z/sjrbpv9j1996t3_4wv3ry65c0000gn/T/ipykernel_48737/1927192999.py:93: FutureWarning: The frame.append method is deprecated and will be removed from pandas in a future version. Use pandas.concat instead.\n",
      "  df_result=df_result.append(df_inter)\n"
     ]
    },
    {
     "name": "stdout",
     "output_type": "stream",
     "text": [
      "99\n"
     ]
    },
    {
     "name": "stderr",
     "output_type": "stream",
     "text": [
      "/var/folders/9z/sjrbpv9j1996t3_4wv3ry65c0000gn/T/ipykernel_48737/1927192999.py:93: FutureWarning: The frame.append method is deprecated and will be removed from pandas in a future version. Use pandas.concat instead.\n",
      "  df_result=df_result.append(df_inter)\n"
     ]
    },
    {
     "name": "stdout",
     "output_type": "stream",
     "text": [
      "100\n"
     ]
    },
    {
     "name": "stderr",
     "output_type": "stream",
     "text": [
      "/var/folders/9z/sjrbpv9j1996t3_4wv3ry65c0000gn/T/ipykernel_48737/1927192999.py:93: FutureWarning: The frame.append method is deprecated and will be removed from pandas in a future version. Use pandas.concat instead.\n",
      "  df_result=df_result.append(df_inter)\n"
     ]
    },
    {
     "name": "stdout",
     "output_type": "stream",
     "text": [
      "101\n"
     ]
    },
    {
     "name": "stderr",
     "output_type": "stream",
     "text": [
      "/var/folders/9z/sjrbpv9j1996t3_4wv3ry65c0000gn/T/ipykernel_48737/1927192999.py:93: FutureWarning: The frame.append method is deprecated and will be removed from pandas in a future version. Use pandas.concat instead.\n",
      "  df_result=df_result.append(df_inter)\n"
     ]
    },
    {
     "name": "stdout",
     "output_type": "stream",
     "text": [
      "102\n"
     ]
    },
    {
     "name": "stderr",
     "output_type": "stream",
     "text": [
      "/var/folders/9z/sjrbpv9j1996t3_4wv3ry65c0000gn/T/ipykernel_48737/1927192999.py:93: FutureWarning: The frame.append method is deprecated and will be removed from pandas in a future version. Use pandas.concat instead.\n",
      "  df_result=df_result.append(df_inter)\n"
     ]
    },
    {
     "name": "stdout",
     "output_type": "stream",
     "text": [
      "103\n"
     ]
    },
    {
     "name": "stderr",
     "output_type": "stream",
     "text": [
      "/var/folders/9z/sjrbpv9j1996t3_4wv3ry65c0000gn/T/ipykernel_48737/1927192999.py:93: FutureWarning: The frame.append method is deprecated and will be removed from pandas in a future version. Use pandas.concat instead.\n",
      "  df_result=df_result.append(df_inter)\n"
     ]
    },
    {
     "name": "stdout",
     "output_type": "stream",
     "text": [
      "104\n"
     ]
    },
    {
     "name": "stderr",
     "output_type": "stream",
     "text": [
      "/var/folders/9z/sjrbpv9j1996t3_4wv3ry65c0000gn/T/ipykernel_48737/1927192999.py:93: FutureWarning: The frame.append method is deprecated and will be removed from pandas in a future version. Use pandas.concat instead.\n",
      "  df_result=df_result.append(df_inter)\n"
     ]
    },
    {
     "name": "stdout",
     "output_type": "stream",
     "text": [
      "105\n"
     ]
    },
    {
     "name": "stderr",
     "output_type": "stream",
     "text": [
      "/var/folders/9z/sjrbpv9j1996t3_4wv3ry65c0000gn/T/ipykernel_48737/1927192999.py:93: FutureWarning: The frame.append method is deprecated and will be removed from pandas in a future version. Use pandas.concat instead.\n",
      "  df_result=df_result.append(df_inter)\n"
     ]
    },
    {
     "name": "stdout",
     "output_type": "stream",
     "text": [
      "106\n"
     ]
    },
    {
     "name": "stderr",
     "output_type": "stream",
     "text": [
      "/var/folders/9z/sjrbpv9j1996t3_4wv3ry65c0000gn/T/ipykernel_48737/1927192999.py:93: FutureWarning: The frame.append method is deprecated and will be removed from pandas in a future version. Use pandas.concat instead.\n",
      "  df_result=df_result.append(df_inter)\n"
     ]
    },
    {
     "name": "stdout",
     "output_type": "stream",
     "text": [
      "107\n"
     ]
    },
    {
     "name": "stderr",
     "output_type": "stream",
     "text": [
      "/var/folders/9z/sjrbpv9j1996t3_4wv3ry65c0000gn/T/ipykernel_48737/1927192999.py:93: FutureWarning: The frame.append method is deprecated and will be removed from pandas in a future version. Use pandas.concat instead.\n",
      "  df_result=df_result.append(df_inter)\n"
     ]
    },
    {
     "name": "stdout",
     "output_type": "stream",
     "text": [
      "108\n"
     ]
    },
    {
     "ename": "KeyboardInterrupt",
     "evalue": "",
     "output_type": "error",
     "traceback": [
      "\u001b[0;31m---------------------------------------------------------------------------\u001b[0m",
      "\u001b[0;31mKeyboardInterrupt\u001b[0m                         Traceback (most recent call last)",
      "Cell \u001b[0;32mIn [25], line 12\u001b[0m\n\u001b[1;32m      8\u001b[0m browser\u001b[38;5;241m.\u001b[39mget(url)\n\u001b[1;32m     10\u001b[0m df_inter\u001b[38;5;241m=\u001b[39mpandas\u001b[38;5;241m.\u001b[39mDataFrame()\n\u001b[0;32m---> 12\u001b[0m \u001b[43mrandom_sleep\u001b[49m\u001b[43m(\u001b[49m\u001b[38;5;241;43m1\u001b[39;49m\u001b[43m)\u001b[49m\n\u001b[1;32m     13\u001b[0m \u001b[38;5;66;03m# on clique sur showmore\u001b[39;00m\n\u001b[1;32m     14\u001b[0m \u001b[38;5;28;01mtry\u001b[39;00m:\n",
      "Cell \u001b[0;32mIn [5], line 3\u001b[0m, in \u001b[0;36mrandom_sleep\u001b[0;34m(factor)\u001b[0m\n\u001b[1;32m      1\u001b[0m \u001b[38;5;28;01mdef\u001b[39;00m \u001b[38;5;21mrandom_sleep\u001b[39m(factor\u001b[38;5;241m=\u001b[39m\u001b[38;5;241m1.0\u001b[39m):\n\u001b[1;32m      2\u001b[0m     sleepTime \u001b[38;5;241m=\u001b[39m (random\u001b[38;5;241m.\u001b[39mrandom() \u001b[38;5;241m+\u001b[39m \u001b[38;5;241m1.0\u001b[39m) \u001b[38;5;241m*\u001b[39m factor\n\u001b[0;32m----> 3\u001b[0m     \u001b[43mtime\u001b[49m\u001b[38;5;241;43m.\u001b[39;49m\u001b[43msleep\u001b[49m\u001b[43m(\u001b[49m\u001b[43msleepTime\u001b[49m\u001b[43m)\u001b[49m\n\u001b[1;32m      4\u001b[0m     \u001b[38;5;28;01mreturn\u001b[39;00m sleepTime\n",
      "\u001b[0;31mKeyboardInterrupt\u001b[0m: "
     ]
    }
   ],
   "source": [
    "#passage sur chacune des URL et recup des infos\n",
    "\n",
    "i=0\n",
    "\n",
    "for index, row  in df_url.iterrows(): \n",
    "    print(i)\n",
    "    url= \"https://www.sciencedirect.com/\"+row[\"url\"]\n",
    "    browser.get(url)\n",
    "\n",
    "    df_inter=pandas.DataFrame()\n",
    "\n",
    "    random_sleep(1)\n",
    "    # on clique sur showmore\n",
    "    try:\n",
    "        show_more_button = browser.find_element_by_id(\"show-more-btn\")\n",
    "        show_more_button.click()\n",
    "    except:\n",
    "        pass\n",
    "\n",
    "\n",
    "    # extract through regexp \n",
    "    htmlsource = browser.page_source\n",
    "\n",
    "    title = re.findall(regexp_title, htmlsource)\n",
    "    abstract = re.findall(regexp_abstract, htmlsource)\n",
    "    doi = re.findall(regexp_doi, htmlsource)\n",
    "    citations = re.findall(regexp_citations, htmlsource)\n",
    "    date = re.findall(regexp_date, htmlsource)\n",
    "    affiliation = re.findall(regexp_affiliation, htmlsource)\n",
    "    auteurs = re.findall(regexp_auteurs, htmlsource)\n",
    "    keywords = re.findall(regexp_keywords, htmlsource)\n",
    "\n",
    "    #on recuperera le journal via un join a la fin\n",
    "    #try:\n",
    "    #    df_inter['journal']=[list_url_journal[0]]\n",
    "    #except:\n",
    "    #    df_inter['journal']='error'    \n",
    "    \n",
    "    df_inter['journal']=[row['journal']]\n",
    "\n",
    "    try:\n",
    "        df_inter['url']=[url]\n",
    "    except:\n",
    "        df_inter['url']='error'\n",
    "\n",
    "    try:\n",
    "        df_inter['keywords']=[keywords]\n",
    "    except:\n",
    "        df_inter['keywords']='error'    \n",
    "    \n",
    "\n",
    "    try:\n",
    "        df_inter['title']=[title]\n",
    "    except:\n",
    "        df_inter['title']='error'\n",
    "\n",
    "    try:\n",
    "        df_inter['abstract']=[abstract]\n",
    "    except:\n",
    "        df_inter['abstract']='error'\n",
    "\n",
    "    try:\n",
    "        df_inter['doi']=[doi]\n",
    "    except:\n",
    "        df_inter['doi']='error'\n",
    "\n",
    "    try:\n",
    "        df_inter['citations']=[citations]\n",
    "    except:\n",
    "        df_inter['citations']='error'\n",
    "\n",
    "    try:\n",
    "        df_inter['date']=[date]\n",
    "    except:\n",
    "        df_inter['date']='error'\n",
    "\n",
    "    try:\n",
    "        df_inter['affiliation']=[affiliation]\n",
    "    except:\n",
    "        df_inter['affiliation']='error'\n",
    "\n",
    "    try:\n",
    "        df_inter['auteur']=[auteurs]\n",
    "    except:\n",
    "        df_inter['auteur']='error'\n",
    "\n",
    "\n",
    "    #concac avec df_results\n",
    "    #initialisation dans le cas ou c'est le premier passage\n",
    "    if i==0 : \n",
    "        df_result=df_inter\n",
    "    else: \n",
    "        df_result=df_result.append(df_inter)\n",
    "\n",
    "    random_sleep(1)\n",
    "    i=i+1\n",
    "    \n",
    "# setup the index\n",
    "df_result=df_result.reset_index(drop=True)"
   ]
  },
  {
   "cell_type": "code",
   "execution_count": 335,
   "id": "0c38d31c",
   "metadata": {
    "scrolled": true
   },
   "outputs": [
    {
     "data": {
      "text/html": [
       "<div>\n",
       "<style scoped>\n",
       "    .dataframe tbody tr th:only-of-type {\n",
       "        vertical-align: middle;\n",
       "    }\n",
       "\n",
       "    .dataframe tbody tr th {\n",
       "        vertical-align: top;\n",
       "    }\n",
       "\n",
       "    .dataframe thead th {\n",
       "        text-align: right;\n",
       "    }\n",
       "</style>\n",
       "<table border=\"1\" class=\"dataframe\">\n",
       "  <thead>\n",
       "    <tr style=\"text-align: right;\">\n",
       "      <th></th>\n",
       "      <th>journal</th>\n",
       "      <th>url</th>\n",
       "      <th>keywords</th>\n",
       "      <th>title</th>\n",
       "      <th>abstract</th>\n",
       "      <th>doi</th>\n",
       "      <th>citations</th>\n",
       "      <th>date</th>\n",
       "      <th>affiliation</th>\n",
       "      <th>auteur</th>\n",
       "    </tr>\n",
       "  </thead>\n",
       "  <tbody>\n",
       "    <tr>\n",
       "      <th>0</th>\n",
       "      <td>Materials Science and Engineering</td>\n",
       "      <td>https://www.sciencedirect.com/science/article/...</td>\n",
       "      <td>[]</td>\n",
       "      <td>[Surface erosion study of alpha-bombarded moly...</td>\n",
       "      <td>[&gt;&lt;div id=\"aep-abstract-sec-id7\"&gt;&lt;p&gt;The surfac...</td>\n",
       "      <td>[https://doi.org/10.1016/0025-5416(88)90255-8]</td>\n",
       "      <td>[1]</td>\n",
       "      <td>[April 1988]</td>\n",
       "      <td>[&lt;dd&gt;Department of Physics, University of Texa...</td>\n",
       "      <td>[Naidu, Sen]</td>\n",
       "    </tr>\n",
       "    <tr>\n",
       "      <th>0</th>\n",
       "      <td>Materials Science and Engineering</td>\n",
       "      <td>https://www.sciencedirect.com/science/article/...</td>\n",
       "      <td>[]</td>\n",
       "      <td>[The strain sensitivity coefficients of resist...</td>\n",
       "      <td>[&gt;&lt;div id=\"aep-abstract-sec-id7\"&gt;&lt;p&gt;The elasti...</td>\n",
       "      <td>[https://doi.org/10.1016/0025-5416(88)90246-7]</td>\n",
       "      <td>[1]</td>\n",
       "      <td>[April 1988]</td>\n",
       "      <td>[&lt;dd&gt;Institute of Precious Metals, Kunming, Yu...</td>\n",
       "      <td>[Gao, Tong, Wang]</td>\n",
       "    </tr>\n",
       "    <tr>\n",
       "      <th>0</th>\n",
       "      <td>Materials Science and Engineering</td>\n",
       "      <td>https://www.sciencedirect.com/science/article/...</td>\n",
       "      <td>[]</td>\n",
       "      <td>[TEM studies of nitrides in surface-treated an...</td>\n",
       "      <td>[&gt;&lt;div id=\"aep-abstract-sec-id11\"&gt;&lt;p&gt;Specimens...</td>\n",
       "      <td>[https://doi.org/10.1016/0025-5416(88)90252-2]</td>\n",
       "      <td>[4]</td>\n",
       "      <td>[April 1988]</td>\n",
       "      <td>[&lt;dd&gt;Institute of Materials Science and Engine...</td>\n",
       "      <td>[Kozubowski, Zielinski, Gawlik, Jagielski, Pod...</td>\n",
       "    </tr>\n",
       "    <tr>\n",
       "      <th>0</th>\n",
       "      <td>Materials Science and Engineering</td>\n",
       "      <td>https://www.sciencedirect.com/science/article/...</td>\n",
       "      <td>[]</td>\n",
       "      <td>[Cyclic stress—strain response of polycrystall...</td>\n",
       "      <td>[&gt;&lt;div id=\"aep-abstract-sec-id5\"&gt;&lt;p&gt;It is now ...</td>\n",
       "      <td>[https://doi.org/10.1016/0025-5416(88)90239-X]</td>\n",
       "      <td>[89]</td>\n",
       "      <td>[April 1988]</td>\n",
       "      <td>[&lt;dd&gt;Department of Materials Science and Engin...</td>\n",
       "      <td>[Wang, Laird]</td>\n",
       "    </tr>\n",
       "    <tr>\n",
       "      <th>0</th>\n",
       "      <td>Materials Science and Engineering</td>\n",
       "      <td>https://www.sciencedirect.com/science/article/...</td>\n",
       "      <td>[]</td>\n",
       "      <td>[Effect of prolonged high-temperature exposure...</td>\n",
       "      <td>[&gt;&lt;div id=\"aep-abstract-sec-id5\"&gt;&lt;p&gt;Effects of...</td>\n",
       "      <td>[https://doi.org/10.1016/0025-5416(88)90235-2]</td>\n",
       "      <td>[22]</td>\n",
       "      <td>[April 1988]</td>\n",
       "      <td>[&lt;dd&gt;Center for Advanced Materials, Lawrence B...</td>\n",
       "      <td>[Venkateswara Rao, Ritchie]</td>\n",
       "    </tr>\n",
       "    <tr>\n",
       "      <th>...</th>\n",
       "      <td>...</td>\n",
       "      <td>...</td>\n",
       "      <td>...</td>\n",
       "      <td>...</td>\n",
       "      <td>...</td>\n",
       "      <td>...</td>\n",
       "      <td>...</td>\n",
       "      <td>...</td>\n",
       "      <td>...</td>\n",
       "      <td>...</td>\n",
       "    </tr>\n",
       "    <tr>\n",
       "      <th>0</th>\n",
       "      <td>Materials &amp; Design</td>\n",
       "      <td>https://www.sciencedirect.com/science/article/...</td>\n",
       "      <td>[Cold spraying (CS), Annealing, Strength-ducti...</td>\n",
       "      <td>[Property prediction and crack growth behavior...</td>\n",
       "      <td>[&gt;&lt;div id=\"as015\"&gt;&lt;p id=\"sp0015\"&gt;Low ductility...</td>\n",
       "      <td>[https://doi.org/10.1016/j.matdes.2021.109826]</td>\n",
       "      <td>[12]</td>\n",
       "      <td>[August 2021]</td>\n",
       "      <td>[&lt;dt&gt;&lt;sup&gt;a&lt;/sup&gt;&lt;/dt&gt;&lt;dd&gt;Materials Technology...</td>\n",
       "      <td>[Huang, Arseenko, Zhao, Xie, Elsenberg, Li, Gä...</td>\n",
       "    </tr>\n",
       "    <tr>\n",
       "      <th>0</th>\n",
       "      <td>Materials &amp; Design</td>\n",
       "      <td>https://www.sciencedirect.com/science/article/...</td>\n",
       "      <td>[Electrochemical dissolution characteristics, ...</td>\n",
       "      <td>[Effect of microstructure on the electrochemic...</td>\n",
       "      <td>[&gt;&lt;div id=\"as015\"&gt;&lt;p id=\"sp0015\"&gt;As a proven a...</td>\n",
       "      <td>[https://doi.org/10.1016/j.matdes.2021.109828]</td>\n",
       "      <td>[15]</td>\n",
       "      <td>[August 2021]</td>\n",
       "      <td>[&lt;dt&gt;&lt;sup&gt;a&lt;/sup&gt;&lt;/dt&gt;&lt;dd&gt;Key Laboratory of Hi...</td>\n",
       "      <td>[Yin, Zhang, Yang, Liu, Han, Zhang, Yang]</td>\n",
       "    </tr>\n",
       "    <tr>\n",
       "      <th>0</th>\n",
       "      <td>Materials &amp; Design</td>\n",
       "      <td>https://www.sciencedirect.com/science/article/...</td>\n",
       "      <td>[Superhydrophobic, Corrosion resistance, Self-...</td>\n",
       "      <td>[New perspectives on structural parameters and...</td>\n",
       "      <td>[&gt;&lt;div id=\"as015\"&gt;&lt;p id=\"sp0015\"&gt;Superhydropho...</td>\n",
       "      <td>[https://doi.org/10.1016/j.matdes.2021.109827]</td>\n",
       "      <td>[18]</td>\n",
       "      <td>[August 2021]</td>\n",
       "      <td>[&lt;dt&gt;&lt;sup&gt;a&lt;/sup&gt;&lt;/dt&gt;&lt;dd&gt;State Key Lab of Met...</td>\n",
       "      <td>[Yang, Wang, Long, Zhang, Liu, Hu, Liu]</td>\n",
       "    </tr>\n",
       "    <tr>\n",
       "      <th>0</th>\n",
       "      <td>Materials &amp; Design</td>\n",
       "      <td>https://www.sciencedirect.com/science/article/...</td>\n",
       "      <td>[Random fiber distribution, Delaunay triangula...</td>\n",
       "      <td>[Generation of random fiber distributions in f...</td>\n",
       "      <td>[&gt;&lt;div id=\"as015\"&gt;&lt;p id=\"sp0015\"&gt;This paper pr...</td>\n",
       "      <td>[https://doi.org/10.1016/j.matdes.2021.109812]</td>\n",
       "      <td>[12]</td>\n",
       "      <td>[August 2021]</td>\n",
       "      <td>[&lt;dt&gt;&lt;sup&gt;a&lt;/sup&gt;&lt;/dt&gt;&lt;dd&gt;State Key Laboratory...</td>\n",
       "      <td>[Wang, Wang, Fei, Wang, Dong, Ke]</td>\n",
       "    </tr>\n",
       "    <tr>\n",
       "      <th>0</th>\n",
       "      <td>Materials &amp; Design</td>\n",
       "      <td>https://www.sciencedirect.com/science/article/...</td>\n",
       "      <td>[Nickel-based alloys, Deformation twinning, Mi...</td>\n",
       "      <td>[Deformation twinning versus slip in Ni-based ...</td>\n",
       "      <td>[&gt;&lt;div id=\"as015\"&gt;&lt;p id=\"sp0015\"&gt;Nickel-based ...</td>\n",
       "      <td>[https://doi.org/10.1016/j.matdes.2021.109820]</td>\n",
       "      <td>[13]</td>\n",
       "      <td>[September 2021]</td>\n",
       "      <td>[&lt;dt&gt;&lt;sup&gt;a&lt;/sup&gt;&lt;/dt&gt;&lt;dd&gt;Department of Nuclea...</td>\n",
       "      <td>[Vo, Dang, Teng, Schneider, Eftink, Maloy, Tuc...</td>\n",
       "    </tr>\n",
       "  </tbody>\n",
       "</table>\n",
       "<p>5292 rows × 10 columns</p>\n",
       "</div>"
      ],
      "text/plain": [
       "                              journal  \\\n",
       "0   Materials Science and Engineering   \n",
       "0   Materials Science and Engineering   \n",
       "0   Materials Science and Engineering   \n",
       "0   Materials Science and Engineering   \n",
       "0   Materials Science and Engineering   \n",
       "..                                ...   \n",
       "0                  Materials & Design   \n",
       "0                  Materials & Design   \n",
       "0                  Materials & Design   \n",
       "0                  Materials & Design   \n",
       "0                  Materials & Design   \n",
       "\n",
       "                                                  url  \\\n",
       "0   https://www.sciencedirect.com/science/article/...   \n",
       "0   https://www.sciencedirect.com/science/article/...   \n",
       "0   https://www.sciencedirect.com/science/article/...   \n",
       "0   https://www.sciencedirect.com/science/article/...   \n",
       "0   https://www.sciencedirect.com/science/article/...   \n",
       "..                                                ...   \n",
       "0   https://www.sciencedirect.com/science/article/...   \n",
       "0   https://www.sciencedirect.com/science/article/...   \n",
       "0   https://www.sciencedirect.com/science/article/...   \n",
       "0   https://www.sciencedirect.com/science/article/...   \n",
       "0   https://www.sciencedirect.com/science/article/...   \n",
       "\n",
       "                                             keywords  \\\n",
       "0                                                  []   \n",
       "0                                                  []   \n",
       "0                                                  []   \n",
       "0                                                  []   \n",
       "0                                                  []   \n",
       "..                                                ...   \n",
       "0   [Cold spraying (CS), Annealing, Strength-ducti...   \n",
       "0   [Electrochemical dissolution characteristics, ...   \n",
       "0   [Superhydrophobic, Corrosion resistance, Self-...   \n",
       "0   [Random fiber distribution, Delaunay triangula...   \n",
       "0   [Nickel-based alloys, Deformation twinning, Mi...   \n",
       "\n",
       "                                                title  \\\n",
       "0   [Surface erosion study of alpha-bombarded moly...   \n",
       "0   [The strain sensitivity coefficients of resist...   \n",
       "0   [TEM studies of nitrides in surface-treated an...   \n",
       "0   [Cyclic stress—strain response of polycrystall...   \n",
       "0   [Effect of prolonged high-temperature exposure...   \n",
       "..                                                ...   \n",
       "0   [Property prediction and crack growth behavior...   \n",
       "0   [Effect of microstructure on the electrochemic...   \n",
       "0   [New perspectives on structural parameters and...   \n",
       "0   [Generation of random fiber distributions in f...   \n",
       "0   [Deformation twinning versus slip in Ni-based ...   \n",
       "\n",
       "                                             abstract  \\\n",
       "0   [><div id=\"aep-abstract-sec-id7\"><p>The surfac...   \n",
       "0   [><div id=\"aep-abstract-sec-id7\"><p>The elasti...   \n",
       "0   [><div id=\"aep-abstract-sec-id11\"><p>Specimens...   \n",
       "0   [><div id=\"aep-abstract-sec-id5\"><p>It is now ...   \n",
       "0   [><div id=\"aep-abstract-sec-id5\"><p>Effects of...   \n",
       "..                                                ...   \n",
       "0   [><div id=\"as015\"><p id=\"sp0015\">Low ductility...   \n",
       "0   [><div id=\"as015\"><p id=\"sp0015\">As a proven a...   \n",
       "0   [><div id=\"as015\"><p id=\"sp0015\">Superhydropho...   \n",
       "0   [><div id=\"as015\"><p id=\"sp0015\">This paper pr...   \n",
       "0   [><div id=\"as015\"><p id=\"sp0015\">Nickel-based ...   \n",
       "\n",
       "                                               doi citations  \\\n",
       "0   [https://doi.org/10.1016/0025-5416(88)90255-8]       [1]   \n",
       "0   [https://doi.org/10.1016/0025-5416(88)90246-7]       [1]   \n",
       "0   [https://doi.org/10.1016/0025-5416(88)90252-2]       [4]   \n",
       "0   [https://doi.org/10.1016/0025-5416(88)90239-X]      [89]   \n",
       "0   [https://doi.org/10.1016/0025-5416(88)90235-2]      [22]   \n",
       "..                                             ...       ...   \n",
       "0   [https://doi.org/10.1016/j.matdes.2021.109826]      [12]   \n",
       "0   [https://doi.org/10.1016/j.matdes.2021.109828]      [15]   \n",
       "0   [https://doi.org/10.1016/j.matdes.2021.109827]      [18]   \n",
       "0   [https://doi.org/10.1016/j.matdes.2021.109812]      [12]   \n",
       "0   [https://doi.org/10.1016/j.matdes.2021.109820]      [13]   \n",
       "\n",
       "                date                                        affiliation  \\\n",
       "0       [April 1988]  [<dd>Department of Physics, University of Texa...   \n",
       "0       [April 1988]  [<dd>Institute of Precious Metals, Kunming, Yu...   \n",
       "0       [April 1988]  [<dd>Institute of Materials Science and Engine...   \n",
       "0       [April 1988]  [<dd>Department of Materials Science and Engin...   \n",
       "0       [April 1988]  [<dd>Center for Advanced Materials, Lawrence B...   \n",
       "..               ...                                                ...   \n",
       "0      [August 2021]  [<dt><sup>a</sup></dt><dd>Materials Technology...   \n",
       "0      [August 2021]  [<dt><sup>a</sup></dt><dd>Key Laboratory of Hi...   \n",
       "0      [August 2021]  [<dt><sup>a</sup></dt><dd>State Key Lab of Met...   \n",
       "0      [August 2021]  [<dt><sup>a</sup></dt><dd>State Key Laboratory...   \n",
       "0   [September 2021]  [<dt><sup>a</sup></dt><dd>Department of Nuclea...   \n",
       "\n",
       "                                               auteur  \n",
       "0                                        [Naidu, Sen]  \n",
       "0                                   [Gao, Tong, Wang]  \n",
       "0   [Kozubowski, Zielinski, Gawlik, Jagielski, Pod...  \n",
       "0                                       [Wang, Laird]  \n",
       "0                         [Venkateswara Rao, Ritchie]  \n",
       "..                                                ...  \n",
       "0   [Huang, Arseenko, Zhao, Xie, Elsenberg, Li, Gä...  \n",
       "0           [Yin, Zhang, Yang, Liu, Han, Zhang, Yang]  \n",
       "0             [Yang, Wang, Long, Zhang, Liu, Hu, Liu]  \n",
       "0                   [Wang, Wang, Fei, Wang, Dong, Ke]  \n",
       "0   [Vo, Dang, Teng, Schneider, Eftink, Maloy, Tuc...  \n",
       "\n",
       "[5292 rows x 10 columns]"
      ]
     },
     "execution_count": 335,
     "metadata": {},
     "output_type": "execute_result"
    }
   ],
   "source": [
    "df_result\n"
   ]
  },
  {
   "cell_type": "code",
   "execution_count": 28,
   "id": "20ec79f8",
   "metadata": {},
   "outputs": [
    {
     "data": {
      "text/html": [
       "<div>\n",
       "<style scoped>\n",
       "    .dataframe tbody tr th:only-of-type {\n",
       "        vertical-align: middle;\n",
       "    }\n",
       "\n",
       "    .dataframe tbody tr th {\n",
       "        vertical-align: top;\n",
       "    }\n",
       "\n",
       "    .dataframe thead th {\n",
       "        text-align: right;\n",
       "    }\n",
       "</style>\n",
       "<table border=\"1\" class=\"dataframe\">\n",
       "  <thead>\n",
       "    <tr style=\"text-align: right;\">\n",
       "      <th></th>\n",
       "      <th>Unnamed: 0</th>\n",
       "      <th>url</th>\n",
       "      <th>journal</th>\n",
       "    </tr>\n",
       "  </thead>\n",
       "  <tbody>\n",
       "    <tr>\n",
       "      <th>5292</th>\n",
       "      <td>2118</td>\n",
       "      <td>science/article/pii/S0264127521003774</td>\n",
       "      <td>Materials &amp; Design</td>\n",
       "    </tr>\n",
       "    <tr>\n",
       "      <th>5293</th>\n",
       "      <td>2119</td>\n",
       "      <td>science/article/pii/S0264127521003750</td>\n",
       "      <td>Materials &amp; Design</td>\n",
       "    </tr>\n",
       "    <tr>\n",
       "      <th>5294</th>\n",
       "      <td>2120</td>\n",
       "      <td>science/article/pii/S0264127521003762</td>\n",
       "      <td>Materials &amp; Design</td>\n",
       "    </tr>\n",
       "    <tr>\n",
       "      <th>5295</th>\n",
       "      <td>2121</td>\n",
       "      <td>science/article/pii/S0264127521003725</td>\n",
       "      <td>Materials &amp; Design</td>\n",
       "    </tr>\n",
       "    <tr>\n",
       "      <th>5296</th>\n",
       "      <td>2122</td>\n",
       "      <td>science/article/pii/S0264127521003713</td>\n",
       "      <td>Materials &amp; Design</td>\n",
       "    </tr>\n",
       "    <tr>\n",
       "      <th>...</th>\n",
       "      <td>...</td>\n",
       "      <td>...</td>\n",
       "      <td>...</td>\n",
       "    </tr>\n",
       "    <tr>\n",
       "      <th>20600</th>\n",
       "      <td>5995</td>\n",
       "      <td>science/article/pii/S0924013607012320</td>\n",
       "      <td>Journal of Materials Processing Technology</td>\n",
       "    </tr>\n",
       "    <tr>\n",
       "      <th>20601</th>\n",
       "      <td>5996</td>\n",
       "      <td>science/article/pii/S0924013607012241</td>\n",
       "      <td>Journal of Materials Processing Technology</td>\n",
       "    </tr>\n",
       "    <tr>\n",
       "      <th>20602</th>\n",
       "      <td>5997</td>\n",
       "      <td>science/article/pii/S0924013607012204</td>\n",
       "      <td>Journal of Materials Processing Technology</td>\n",
       "    </tr>\n",
       "    <tr>\n",
       "      <th>20603</th>\n",
       "      <td>5998</td>\n",
       "      <td>science/article/pii/S0924013607012599</td>\n",
       "      <td>Journal of Materials Processing Technology</td>\n",
       "    </tr>\n",
       "    <tr>\n",
       "      <th>20604</th>\n",
       "      <td>5999</td>\n",
       "      <td>science/article/pii/S0924013607011910</td>\n",
       "      <td>Journal of Materials Processing Technology</td>\n",
       "    </tr>\n",
       "  </tbody>\n",
       "</table>\n",
       "<p>15313 rows × 3 columns</p>\n",
       "</div>"
      ],
      "text/plain": [
       "       Unnamed: 0                                    url  \\\n",
       "5292         2118  science/article/pii/S0264127521003774   \n",
       "5293         2119  science/article/pii/S0264127521003750   \n",
       "5294         2120  science/article/pii/S0264127521003762   \n",
       "5295         2121  science/article/pii/S0264127521003725   \n",
       "5296         2122  science/article/pii/S0264127521003713   \n",
       "...           ...                                    ...   \n",
       "20600        5995  science/article/pii/S0924013607012320   \n",
       "20601        5996  science/article/pii/S0924013607012241   \n",
       "20602        5997  science/article/pii/S0924013607012204   \n",
       "20603        5998  science/article/pii/S0924013607012599   \n",
       "20604        5999  science/article/pii/S0924013607011910   \n",
       "\n",
       "                                          journal  \n",
       "5292                           Materials & Design  \n",
       "5293                           Materials & Design  \n",
       "5294                           Materials & Design  \n",
       "5295                           Materials & Design  \n",
       "5296                           Materials & Design  \n",
       "...                                           ...  \n",
       "20600  Journal of Materials Processing Technology  \n",
       "20601  Journal of Materials Processing Technology  \n",
       "20602  Journal of Materials Processing Technology  \n",
       "20603  Journal of Materials Processing Technology  \n",
       "20604  Journal of Materials Processing Technology  \n",
       "\n",
       "[15313 rows x 3 columns]"
      ]
     },
     "execution_count": 28,
     "metadata": {},
     "output_type": "execute_result"
    }
   ],
   "source": [
    "df_url[5292:]"
   ]
  },
  {
   "cell_type": "code",
   "execution_count": 334,
   "id": "8c4765d5",
   "metadata": {},
   "outputs": [],
   "source": [
    "df_result.to_csv('batch_papers_withkeyworkds_v0.csv')"
   ]
  }
 ],
 "metadata": {
  "kernelspec": {
   "display_name": "Python 3 (ipykernel)",
   "language": "python",
   "name": "python3"
  },
  "language_info": {
   "codemirror_mode": {
    "name": "ipython",
    "version": 3
   },
   "file_extension": ".py",
   "mimetype": "text/x-python",
   "name": "python",
   "nbconvert_exporter": "python",
   "pygments_lexer": "ipython3",
   "version": "3.9.13"
  }
 },
 "nbformat": 4,
 "nbformat_minor": 5
}
